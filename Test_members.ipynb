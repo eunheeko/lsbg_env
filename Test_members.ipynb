{
 "cells": [
  {
   "cell_type": "code",
   "execution_count": 1,
   "metadata": {},
   "outputs": [],
   "source": [
    "import matplotlib.pyplot as plt\n",
    "import numpy as np\n",
    "\n",
    "from astropy.table import Table\n",
    "\n",
    "from astropy import units as u\n",
    "from astropy.coordinates import SkyCoord\n",
    "\n",
    "from astropy.cosmology import FlatLambdaCDM\n",
    "cosmo = FlatLambdaCDM(H0=70, Om0=0.3, Tcmb0=2.725)"
   ]
  },
  {
   "cell_type": "markdown",
   "metadata": {},
   "source": [
    "## Cluster"
   ]
  },
  {
   "cell_type": "code",
   "execution_count": 2,
   "metadata": {},
   "outputs": [],
   "source": [
    "grps = Table.read(\"./data/group_DR7/modelA_group\", format = 'ascii')\n",
    "\n",
    "grps['col1'].name = 'id'\n",
    "grps['col2'].name = 'RA'\n",
    "grps['col3'].name = 'dec'\n",
    "grps['col4'].name = 'z'\n",
    "grps['col5'].name = 'L'\n",
    "grps['col6'].name = 'sm'\n",
    "grps['col7'].name = 'hm1'\n",
    "grps['col8'].name = 'hm2'\n",
    "grps['col9'].name = 'mean_sep1'\n",
    "grps['col10'].name = 'mean_sep2'\n",
    "grps['col11'].name = 'f_edge'\n",
    "grps['col12'].name = 'ID1'\n",
    "grps['col13'].name = 'ID2'\n",
    "\n",
    "mask_m = (grps['hm1'] > np.log10(2e12))\n",
    "mask_z = (grps['z'] > 0.015) & (grps['z'] < 0.055)\n",
    "mask_coord = ((grps['RA'] < 70) | (grps['RA'] > 290)) & ((grps['dec'] < 1.5) & (grps['dec'] > -1.5))\n",
    "mask_grp = mask_m & mask_z & mask_coord\n",
    "\n",
    "grps = grps[mask_grp]\n"
   ]
  },
  {
   "cell_type": "code",
   "execution_count": 3,
   "metadata": {},
   "outputs": [],
   "source": [
    "ra_grp = grps['RA']\n",
    "dec_grp = grps['dec']\n",
    "zz_grp = grps['z']\n",
    "dist_grp = cosmo.comoving_distance(zz_grp).value # Mpc\n",
    "\n",
    "coords = SkyCoord(ra = ra_grp * u.degree, dec = dec_grp * u.degree, distance = dist_grp * u.Mpc)\n",
    "\n",
    "x_grp = coords.cartesian.x\n",
    "y_grp = coords.cartesian.y\n",
    "z_grp = coords.cartesian.z"
   ]
  },
  {
   "cell_type": "code",
   "execution_count": 4,
   "metadata": {},
   "outputs": [
    {
     "data": {
      "text/plain": [
       "<matplotlib.collections.PathCollection at 0x7fd917c090d0>"
      ]
     },
     "execution_count": 4,
     "metadata": {},
     "output_type": "execute_result"
    },
    {
     "data": {
      "image/png": "[encoded data removed]",
      "text/plain": [
       "<Figure size 432x288 with 1 Axes>"
      ]
     },
     "metadata": {
      "needs_background": "light"
     },
     "output_type": "display_data"
    }
   ],
   "source": [
    "fig, ax = plt.subplots()\n",
    "\n",
    "ax.scatter(ra_grp, dec_grp)"
   ]
  },
  {
   "cell_type": "markdown",
   "metadata": {},
   "source": [
    "## Stripe82"
   ]
  },
  {
   "cell_type": "code",
   "execution_count": 36,
   "metadata": {},
   "outputs": [
    {
     "name": "stderr",
     "output_type": "stream",
     "text": [
      "WARNING: VerifyWarning: Invalid keyword for column 85: ASCII table null option (TNULLn) is longer than the column's character width and will be truncated (got '255'). [astropy.io.fits.column]\n",
      "WARNING: VerifyWarning: Invalid keyword for column 130: ASCII table null option (TNULLn) is longer than the column's character width and will be truncated (got '255'). [astropy.io.fits.column]\n",
      "WARNING: VerifyWarning: Invalid keyword for column 147: ASCII table null option (TNULLn) is longer than the column's character width and will be truncated (got '-2147483648'). [astropy.io.fits.column]\n",
      "WARNING: VerifyWarning: Invalid keyword for column 148: ASCII table null option (TNULLn) is longer than the column's character width and will be truncated (got '-2147483648'). [astropy.io.fits.column]\n"
     ]
    }
   ],
   "source": [
    "cat = Table.read(\"./data/s82grfn.fit\")\n",
    "\n",
    "ra_gal = cat['RAJ2000'].value\n",
    "dec_gal = cat['DEJ2000'].value\n",
    "zz_gal = cat['z'].value\n",
    "\n",
    "dist_gal = cosmo.comoving_distance(zz_gal).value # Mpc\n",
    "\n",
    "coords_gal = SkyCoord(ra = ra_gal * u.degree, dec = dec_gal * u.degree, distance = dist_gal * u.Mpc)\n",
    "\n",
    "x_gal = coords_gal.cartesian.x\n",
    "y_gal = coords_gal.cartesian.y\n",
    "z_gal = coords_gal.cartesian.z"
   ]
  },
  {
   "cell_type": "code",
   "execution_count": 6,
   "metadata": {},
   "outputs": [],
   "source": [
    "#  1. group id; \n",
    "#  2. member galaxy id in NYU_VAGC\n",
    "#  3. member galaxy id in SDSS7?\n",
    "grps_mems = Table.read('./data/group_DR7/imodelA_2', format = 'ascii')\n",
    "\n",
    "mask = np.isin(grps_mems['col1'], grps['id'])\n",
    "grps_mems = grps_mems[mask]"
   ]
  },
  {
   "cell_type": "code",
   "execution_count": 12,
   "metadata": {},
   "outputs": [
    {
     "data": {
      "text/plain": [
       "(1275, 248)"
      ]
     },
     "execution_count": 12,
     "metadata": {},
     "output_type": "execute_result"
    }
   ],
   "source": [
    "len(grps_mems), len(grps)"
   ]
  },
  {
   "cell_type": "code",
   "execution_count": 5,
   "metadata": {},
   "outputs": [],
   "source": [
    "# col  1: galaxy ID\n",
    "# col  2: NYU-VAGC ID : object ID (row in NYU-VAGC files)\n",
    "# col  3: ra \n",
    "# col  4: dec\n",
    "# col  5: z redshift\n",
    "# col  6: apparent magnitude r_band (SDSS magnitude)\n",
    "# col  7: magnitude limit r_band\n",
    "# col  8: completeness in this region\n",
    "# col  9: ^{0.1}M_r-5\\log h  (K+E corrected to z=0.1) -- Petro\n",
    "# col 10: ^{0.1}(g-r)  color (K+E corrected to z=0.1) -- Petro\n",
    "# col 11: ^{0.1}M_r-5\\log h  (K+E corrected to z=0.1) -- Model\n",
    "# col 12: ^{0.1}(g-r)  color (K+E corrected to z=0.1) -- Model\n",
    "# col 13: redshift source type: 1 SDSS; 2 other; 3 KSG-VAGC; 4 nearest \n",
    "#         5 from X-ray clusters (last 30)\n",
    "#         * for those with negtive values (469), photometries are update\n",
    "#           according to their parents. \n",
    "dr7 = Table.read('./data/galaxy_DR7/SDSS7', format = 'ascii')"
   ]
  },
  {
   "cell_type": "code",
   "execution_count": 27,
   "metadata": {},
   "outputs": [],
   "source": [
    "# grps_mems['col3']"
   ]
  },
  {
   "cell_type": "code",
   "execution_count": 30,
   "metadata": {},
   "outputs": [],
   "source": [
    "mask = np.isin(dr7['col2'], grps_mems['col2'])\n",
    "dr7_cands = dr7[mask]"
   ]
  },
  {
   "cell_type": "code",
   "execution_count": 31,
   "metadata": {},
   "outputs": [
    {
     "data": {
      "text/plain": [
       "1275"
      ]
     },
     "execution_count": 31,
     "metadata": {},
     "output_type": "execute_result"
    }
   ],
   "source": [
    "len(dr7_cands)"
   ]
  },
  {
   "cell_type": "code",
   "execution_count": 32,
   "metadata": {},
   "outputs": [
    {
     "data": {
      "text/plain": [
       "1275"
      ]
     },
     "execution_count": 32,
     "metadata": {},
     "output_type": "execute_result"
    }
   ],
   "source": [
    "len(dr7_cands)"
   ]
  },
  {
   "cell_type": "code",
   "execution_count": 37,
   "metadata": {},
   "outputs": [],
   "source": [
    "dr7_cands.write('./data/galaxy_DR7/SDSS7_matched.cat', format = 'ascii')"
   ]
  },
  {
   "cell_type": "code",
   "execution_count": 38,
   "metadata": {},
   "outputs": [
    {
     "data": {
      "text/html": [
       "<i>Row index=0</i>\n",
       "<table id=\"table140570250614544\">\n",
       "<thead><tr><th>col1</th><th>col2</th><th>col3</th><th>col4</th><th>col5</th><th>col6</th><th>col7</th><th>col8</th><th>col9</th><th>col10</th><th>col11</th><th>col12</th><th>col13</th></tr></thead>\n",
       "<thead><tr><th>int64</th><th>int64</th><th>float64</th><th>float64</th><th>float64</th><th>float64</th><th>float64</th><th>float64</th><th>float64</th><th>float64</th><th>float64</th><th>float64</th><th>int64</th></tr></thead>\n",
       "<tr><td>2</td><td>751</td><td>38.352526239</td><td>0.212490935</td><td>0.0538176</td><td>16.786047</td><td>17.6200008</td><td>0.9878049</td><td>-19.3635311</td><td>0.8207065</td><td>-19.3689442</td><td>0.8517601</td><td>1</td></tr>\n",
       "</table>"
      ],
      "text/plain": [
       "<Row index=0>\n",
       " col1  col2     col3         col4       col5      col6      col7       col8       col9      col10      col11      col12   col13\n",
       "int64 int64   float64      float64    float64   float64   float64    float64    float64    float64    float64    float64  int64\n",
       "----- ----- ------------ ----------- --------- --------- ---------- --------- ----------- --------- ----------- --------- -----\n",
       "    2   751 38.352526239 0.212490935 0.0538176 16.786047 17.6200008 0.9878049 -19.3635311 0.8207065 -19.3689442 0.8517601     1"
      ]
     },
     "execution_count": 38,
     "metadata": {},
     "output_type": "execute_result"
    }
   ],
   "source": [
    "dr7_cands[0]"
   ]
  },
  {
   "cell_type": "code",
   "execution_count": 39,
   "metadata": {},
   "outputs": [],
   "source": [
    "coords_dr7 = SkyCoord(ra = dr7_cands['col3'] * u.degree, dec = dr7_cands['col4'] * u.degree)"
   ]
  },
  {
   "cell_type": "code",
   "execution_count": 40,
   "metadata": {},
   "outputs": [],
   "source": [
    "coords_s82 = SkyCoord(ra = ra_gal * u.degree, dec = dec_gal * u.degree)"
   ]
  },
  {
   "cell_type": "code",
   "execution_count": 42,
   "metadata": {},
   "outputs": [
    {
     "data": {
      "text/plain": [
       "<matplotlib.collections.PathCollection at 0x7fd91b9cb150>"
      ]
     },
     "execution_count": 42,
     "metadata": {},
     "output_type": "execute_result"
    },
    {
     "data": {
      "image/png": "[encoded data removed]",
      "text/plain": [
       "<Figure size 432x288 with 1 Axes>"
      ]
     },
     "metadata": {
      "needs_background": "light"
     },
     "output_type": "display_data"
    }
   ],
   "source": [
    "plt.scatter(dr7_cands['col3'], dr7_cands['col4'], s = 1)\n",
    "plt.scatter( ra_gal, dec_gal, s = 1, alpha = .2)"
   ]
  },
  {
   "cell_type": "code",
   "execution_count": 43,
   "metadata": {},
   "outputs": [
    {
     "data": {
      "text/plain": [
       "(1.25862, -1.25804)"
      ]
     },
     "execution_count": 43,
     "metadata": {},
     "output_type": "execute_result"
    }
   ],
   "source": [
    "max(dec_gal), min(dec_gal)"
   ]
  },
  {
   "cell_type": "code",
   "execution_count": 44,
   "metadata": {},
   "outputs": [
    {
     "data": {
      "text/html": [
       "&lt;Column name=&apos;col4&apos; dtype=&apos;float64&apos; length=1275&gt;\n",
       "<table>\n",
       "<tr><td>0.212490935</td></tr>\n",
       "<tr><td>0.210653925</td></tr>\n",
       "<tr><td>0.614347581</td></tr>\n",
       "<tr><td>1.006723478</td></tr>\n",
       "<tr><td>0.99313494</td></tr>\n",
       "<tr><td>0.918866616</td></tr>\n",
       "<tr><td>0.912559395</td></tr>\n",
       "<tr><td>0.875482449</td></tr>\n",
       "<tr><td>0.911073543</td></tr>\n",
       "<tr><td>0.861910978</td></tr>\n",
       "<tr><td>0.932008064</td></tr>\n",
       "<tr><td>1.069768242</td></tr>\n",
       "<tr><td>...</td></tr>\n",
       "<tr><td>-0.028692789</td></tr>\n",
       "<tr><td>0.386727189</td></tr>\n",
       "<tr><td>0.293429771</td></tr>\n",
       "<tr><td>0.218054474</td></tr>\n",
       "<tr><td>0.320447649</td></tr>\n",
       "<tr><td>0.320505262</td></tr>\n",
       "<tr><td>0.376975697</td></tr>\n",
       "<tr><td>0.382809823</td></tr>\n",
       "<tr><td>0.271642948</td></tr>\n",
       "<tr><td>0.406719099</td></tr>\n",
       "<tr><td>0.407375182</td></tr>\n",
       "<tr><td>0.293796271</td></tr>\n",
       "</table>"
      ],
      "text/plain": [
       "<Column name='col4' dtype='float64' length=1275>\n",
       " 0.212490935\n",
       " 0.210653925\n",
       " 0.614347581\n",
       " 1.006723478\n",
       "  0.99313494\n",
       " 0.918866616\n",
       " 0.912559395\n",
       " 0.875482449\n",
       " 0.911073543\n",
       " 0.861910978\n",
       " 0.932008064\n",
       " 1.069768242\n",
       "         ...\n",
       "-0.028692789\n",
       " 0.386727189\n",
       " 0.293429771\n",
       " 0.218054474\n",
       " 0.320447649\n",
       " 0.320505262\n",
       " 0.376975697\n",
       " 0.382809823\n",
       " 0.271642948\n",
       " 0.406719099\n",
       " 0.407375182\n",
       " 0.293796271"
      ]
     },
     "execution_count": 44,
     "metadata": {},
     "output_type": "execute_result"
    }
   ],
   "source": [
    "dr7_cands['col4']"
   ]
  },
  {
   "cell_type": "code",
   "execution_count": 45,
   "metadata": {},
   "outputs": [],
   "source": [
    "from astropy.coordinates import match_coordinates_sky\n"
   ]
  },
  {
   "cell_type": "code",
   "execution_count": 46,
   "metadata": {},
   "outputs": [],
   "source": [
    "idx, d2d, d3d = match_coordinates_sky(coords_dr7, coords_s82)"
   ]
  },
  {
   "cell_type": "code",
   "execution_count": 51,
   "metadata": {},
   "outputs": [],
   "source": [
    "max_sep = 1.0 * u.arcsec\n",
    "sep_constraint = d2d < max_sep"
   ]
  },
  {
   "cell_type": "code",
   "execution_count": 62,
   "metadata": {},
   "outputs": [
    {
     "data": {
      "text/plain": [
       "<matplotlib.collections.PathCollection at 0x7fd94726b8d0>"
      ]
     },
     "execution_count": 62,
     "metadata": {},
     "output_type": "execute_result"
    },
    {
     "data": {
      "image/png": "[encoded data removed]",
      "text/plain": [
       "<Figure size 432x288 with 1 Axes>"
      ]
     },
     "metadata": {
      "needs_background": "light"
     },
     "output_type": "display_data"
    }
   ],
   "source": [
    "plt.scatter(coords_dr7.ra.value, coords_dr7.dec.value)\n",
    "plt.scatter(coords_s82[idx].ra.value, coords_s82[idx].dec.value, s = 1)\n",
    "\n",
    "# plt.scatter(coords_dr7[sep_constraint].ra.value, coords_s82[idx[sep_constraint]].ra.value, alpha = .2)"
   ]
  },
  {
   "cell_type": "code",
   "execution_count": 70,
   "metadata": {},
   "outputs": [],
   "source": [
    "# dr7_cands[sep_constraint]['col2']\n",
    "# cat[idx[sep_constraint]]['recno']"
   ]
  },
  {
   "cell_type": "code",
   "execution_count": 73,
   "metadata": {},
   "outputs": [],
   "source": [
    "tbl = Table()\n",
    "\n",
    "tbl['ds7_col2'] = dr7_cands[sep_constraint]['col2']\n",
    "tbl['s82_recno'] = cat[idx[sep_constraint]]['recno']\n",
    "\n",
    "tbl.write('./data/galaxy_DR7/SDSS7_S82_matched_id.cat', format = 'ascii')"
   ]
  },
  {
   "cell_type": "code",
   "execution_count": null,
   "metadata": {},
   "outputs": [],
   "source": []
  },
  {
   "cell_type": "markdown",
   "metadata": {},
   "source": [
    "## id files"
   ]
  },
  {
   "cell_type": "code",
   "execution_count": 9,
   "metadata": {},
   "outputs": [],
   "source": [
    "#  1) IGAL   : a simple counter, from 1 to Ngal\n",
    "#  2) VAGC ID: object ID (row in NYU-VAGC files)\n",
    "#  3) MJD    : spectroscopic id\n",
    "#  4) PLATE  : spectroscopic id\n",
    "#  5) FIBERID: spectroscopic id\n",
    "#  6) RUN    : photometric id\n",
    "#  7) RERUN  : photometric id\n",
    "#  8) CAMCOL : photometric id\n",
    "#  9) FIELD  : photometric id\n",
    "# 10) ID     : photometric id\n",
    "\n",
    "# NOTE: These IDs are only needed if one wants to identify the object\n",
    "#       in the original SDSS data files\n",
    "grps_ids = Table.read('./data/galaxy_DR7/SDSS7_ID', format = 'ascii')"
   ]
  },
  {
   "cell_type": "code",
   "execution_count": 11,
   "metadata": {},
   "outputs": [],
   "source": [
    "# from utils.sdss import objid_extract"
   ]
  },
  {
   "cell_type": "code",
   "execution_count": 12,
   "metadata": {},
   "outputs": [],
   "source": [
    "mask = np.isin(grps_ids['col1'], grps_mems['col3'])\n",
    "grps_ids = grps_ids[mask]"
   ]
  },
  {
   "cell_type": "code",
   "execution_count": 13,
   "metadata": {},
   "outputs": [
    {
     "data": {
      "text/html": [
       "<div><i>Table length=1275</i>\n",
       "<table id=\"table140321572140464\" class=\"table-striped table-bordered table-condensed\">\n",
       "<thead><tr><th>col1</th><th>col2</th><th>col3</th><th>col4</th><th>col5</th><th>col6</th><th>col7</th><th>col8</th><th>col9</th><th>col10</th></tr></thead>\n",
       "<thead><tr><th>int64</th><th>int64</th><th>int64</th><th>int64</th><th>int64</th><th>int64</th><th>int64</th><th>int64</th><th>int64</th><th>int64</th></tr></thead>\n",
       "<tr><td>2</td><td>751</td><td>51820</td><td>407</td><td>594</td><td>109</td><td>137</td><td>4</td><td>88</td><td>92</td></tr>\n",
       "<tr><td>3</td><td>752</td><td>51821</td><td>408</td><td>351</td><td>109</td><td>137</td><td>4</td><td>128</td><td>111</td></tr>\n",
       "<tr><td>23</td><td>1128</td><td>51811</td><td>416</td><td>543</td><td>109</td><td>137</td><td>5</td><td>345</td><td>233</td></tr>\n",
       "<tr><td>258</td><td>3195</td><td>51869</td><td>414</td><td>529</td><td>109</td><td>137</td><td>6</td><td>117</td><td>117</td></tr>\n",
       "<tr><td>259</td><td>3196</td><td>51869</td><td>414</td><td>525</td><td>109</td><td>137</td><td>6</td><td>117</td><td>150</td></tr>\n",
       "<tr><td>260</td><td>3201</td><td>51869</td><td>414</td><td>578</td><td>109</td><td>137</td><td>6</td><td>117</td><td>200</td></tr>\n",
       "<tr><td>261</td><td>3202</td><td>52178</td><td>713</td><td>331</td><td>109</td><td>137</td><td>6</td><td>117</td><td>203</td></tr>\n",
       "<tr><td>319</td><td>3645</td><td>52901</td><td>1242</td><td>335</td><td>109</td><td>137</td><td>6</td><td>148</td><td>133</td></tr>\n",
       "<tr><td>347</td><td>3783</td><td>52901</td><td>1242</td><td>578</td><td>109</td><td>137</td><td>6</td><td>156</td><td>191</td></tr>\n",
       "<tr><td>348</td><td>3789</td><td>52901</td><td>1242</td><td>570</td><td>109</td><td>137</td><td>6</td><td>157</td><td>137</td></tr>\n",
       "<tr><td>...</td><td>...</td><td>...</td><td>...</td><td>...</td><td>...</td><td>...</td><td>...</td><td>...</td><td>...</td></tr>\n",
       "<tr><td>492942</td><td>1953355</td><td>53734</td><td>1975</td><td>405</td><td>4623</td><td>137</td><td>6</td><td>205</td><td>109</td></tr>\n",
       "<tr><td>493058</td><td>1953551</td><td>53818</td><td>2093</td><td>100</td><td>4623</td><td>137</td><td>6</td><td>248</td><td>129</td></tr>\n",
       "<tr><td>493059</td><td>1953553</td><td>53818</td><td>2093</td><td>53</td><td>4623</td><td>137</td><td>6</td><td>249</td><td>65</td></tr>\n",
       "<tr><td>493061</td><td>1953557</td><td>53852</td><td>2104</td><td>406</td><td>4623</td><td>137</td><td>6</td><td>250</td><td>94</td></tr>\n",
       "<tr><td>493085</td><td>1953591</td><td>53534</td><td>2112</td><td>268</td><td>4623</td><td>137</td><td>6</td><td>258</td><td>107</td></tr>\n",
       "<tr><td>493086</td><td>1953598</td><td>53534</td><td>2112</td><td>226</td><td>4623</td><td>137</td><td>6</td><td>259</td><td>75</td></tr>\n",
       "<tr><td>493091</td><td>1953605</td><td>53534</td><td>2112</td><td>168</td><td>4623</td><td>137</td><td>6</td><td>261</td><td>44</td></tr>\n",
       "<tr><td>493144</td><td>1953686</td><td>53468</td><td>2109</td><td>181</td><td>4623</td><td>137</td><td>6</td><td>275</td><td>93</td></tr>\n",
       "<tr><td>493145</td><td>1953687</td><td>53467</td><td>2110</td><td>614</td><td>4623</td><td>137</td><td>6</td><td>275</td><td>94</td></tr>\n",
       "<tr><td>493147</td><td>1953689</td><td>53468</td><td>2109</td><td>133</td><td>4623</td><td>137</td><td>6</td><td>276</td><td>12</td></tr>\n",
       "</table></div>"
      ],
      "text/plain": [
       "<Table length=1275>\n",
       " col1    col2   col3  col4  col5  col6  col7  col8  col9 col10\n",
       "int64   int64  int64 int64 int64 int64 int64 int64 int64 int64\n",
       "------ ------- ----- ----- ----- ----- ----- ----- ----- -----\n",
       "     2     751 51820   407   594   109   137     4    88    92\n",
       "     3     752 51821   408   351   109   137     4   128   111\n",
       "    23    1128 51811   416   543   109   137     5   345   233\n",
       "   258    3195 51869   414   529   109   137     6   117   117\n",
       "   259    3196 51869   414   525   109   137     6   117   150\n",
       "   260    3201 51869   414   578   109   137     6   117   200\n",
       "   261    3202 52178   713   331   109   137     6   117   203\n",
       "   319    3645 52901  1242   335   109   137     6   148   133\n",
       "   347    3783 52901  1242   578   109   137     6   156   191\n",
       "   348    3789 52901  1242   570   109   137     6   157   137\n",
       "   ...     ...   ...   ...   ...   ...   ...   ...   ...   ...\n",
       "492942 1953355 53734  1975   405  4623   137     6   205   109\n",
       "493058 1953551 53818  2093   100  4623   137     6   248   129\n",
       "493059 1953553 53818  2093    53  4623   137     6   249    65\n",
       "493061 1953557 53852  2104   406  4623   137     6   250    94\n",
       "493085 1953591 53534  2112   268  4623   137     6   258   107\n",
       "493086 1953598 53534  2112   226  4623   137     6   259    75\n",
       "493091 1953605 53534  2112   168  4623   137     6   261    44\n",
       "493144 1953686 53468  2109   181  4623   137     6   275    93\n",
       "493145 1953687 53467  2110   614  4623   137     6   275    94\n",
       "493147 1953689 53468  2109   133  4623   137     6   276    12"
      ]
     },
     "execution_count": 13,
     "metadata": {},
     "output_type": "execute_result"
    }
   ],
   "source": [
    "grps_ids"
   ]
  },
  {
   "cell_type": "code",
   "execution_count": null,
   "metadata": {},
   "outputs": [],
   "source": []
  },
  {
   "cell_type": "markdown",
   "metadata": {},
   "source": []
  },
  {
   "cell_type": "code",
   "execution_count": null,
   "metadata": {},
   "outputs": [
    {
     "data": {
      "text/plain": [
       "array([6532, 7949, 8095, 8261, 8737, 9751])"
      ]
     },
     "execution_count": 95,
     "metadata": {},
     "output_type": "execute_result"
    }
   ],
   "source": [
    "# run\n",
    "idx = 10\n",
    "mask = (\n",
    "        # (grps_ids['col6'][idx] == cat['run']) \n",
    "        # & (grps_ids['col7'][idx] == cat['rerun'])\n",
    "        (grps_ids['col8'][idx] == cat['camcol'])\n",
    "        & (grps_ids['col9'][idx] == cat['field'])\n",
    "        # & (grps_ids['col10'][idx] == cat['fieldID'])\n",
    ")\n",
    "np.where(mask)[0]"
   ]
  },
  {
   "cell_type": "code",
   "execution_count": null,
   "metadata": {},
   "outputs": [
    {
     "data": {
      "text/html": [
       "<i>Row index=10</i>\n",
       "<table id=\"table140045674802816\">\n",
       "<thead><tr><th>col1</th><th>col2</th><th>col3</th><th>col4</th><th>col5</th><th>col6</th><th>col7</th><th>col8</th><th>col9</th><th>col10</th></tr></thead>\n",
       "<thead><tr><th>int64</th><th>int64</th><th>int64</th><th>int64</th><th>int64</th><th>int64</th><th>int64</th><th>int64</th><th>int64</th><th>int64</th></tr></thead>\n",
       "<tr><td>350</td><td>3803</td><td>52901</td><td>1242</td><td>615</td><td>109</td><td>137</td><td>6</td><td>158</td><td>115</td></tr>\n",
       "</table>"
      ],
      "text/plain": [
       "<Row index=10>\n",
       " col1  col2  col3  col4  col5  col6  col7  col8  col9 col10\n",
       "int64 int64 int64 int64 int64 int64 int64 int64 int64 int64\n",
       "----- ----- ----- ----- ----- ----- ----- ----- ----- -----\n",
       "  350  3803 52901  1242   615   109   137     6   158   115"
      ]
     },
     "execution_count": 92,
     "metadata": {},
     "output_type": "execute_result"
    }
   ],
   "source": [
    "grps_ids[idx]"
   ]
  },
  {
   "cell_type": "code",
   "execution_count": null,
   "metadata": {},
   "outputs": [],
   "source": [
    "from numpy import int8\n",
    "\n",
    "\n",
    "def objid_merge(sky, run, rerun, camcol, field, object_id):\n",
    "    superid: int8 = 0\n",
    "    superid = (superid | (sky << 59) | (rerun << 48) | (run << 32) | (camcol << 29) | (0 << 28) | (field << 16) | (object_id << 0))\n",
    "    return superid"
   ]
  },
  {
   "cell_type": "code",
   "execution_count": null,
   "metadata": {},
   "outputs": [
    {
     "data": {
      "text/plain": [
       "8647475122499617250"
      ]
     },
     "execution_count": 126,
     "metadata": {},
     "output_type": "execute_result"
    }
   ],
   "source": [
    "objid_merge(15, 206, 2, 6, 158, 482)"
   ]
  },
  {
   "cell_type": "code",
   "execution_count": null,
   "metadata": {},
   "outputs": [
    {
     "data": {
      "text/plain": [
       "({'sky_version': 15,\n",
       "  'rerun': 2,\n",
       "  'run': 206,\n",
       "  'camcol': 6,\n",
       "  'first_field': 0,\n",
       "  'field': 158,\n",
       "  'object_id': 482},\n",
       " {'sky_version': 1,\n",
       "  'rerun': 40,\n",
       "  'run': 2662,\n",
       "  'camcol': 6,\n",
       "  'first_field': 0,\n",
       "  'field': 39,\n",
       "  'object_id': 199})"
      ]
     },
     "execution_count": 101,
     "metadata": {},
     "output_type": "execute_result"
    }
   ],
   "source": [
    "objid_extract(cat[mask][0]['S82ID']), objid_extract(cat[mask][0]['SDSSID'])"
   ]
  },
  {
   "cell_type": "code",
   "execution_count": null,
   "metadata": {},
   "outputs": [
    {
     "data": {
      "text/html": [
       "<div><i>Table length=6</i>\n",
       "<table id=\"table140044026947856\" class=\"table-striped table-bordered table-condensed\">\n",
       "<thead><tr><th>recno</th><th>S82ID</th><th>SDSSID</th><th>RAJ2000</th><th>DEJ2000</th><th>run</th><th>rerun</th><th>camcol</th><th>field</th><th>fieldID</th><th>rPmag</th><th>Ar</th><th>z</th><th>Nx</th><th>Ny</th><th>prcHost</th><th>prcStart</th><th>prcEnd</th><th>e_Fr</th><th>Fr</th><th>e_fr_lc</th><th>e_rmag</th><th>rmag</th><th>e_rmag_lc</th><th>e_B_Tr</th><th>B_Tr</th><th>e_b_tr_lc</th><th>e_radb</th><th>radb</th><th>e_radb_lc</th><th>e_be</th><th>be</th><th>e_be_lc</th><th>e_PAb</th><th>PAb</th><th>e_pab_lc</th><th>e_radd</th><th>radd</th><th>e_radd_lc</th><th>e_inc</th><th>inc</th><th>e_inc_lc</th><th>e_PAd</th><th>PAd</th><th>e_pad_lc</th><th>e_dxg</th><th>dxg</th><th>e_dxg_lc</th><th>e_dyg</th><th>dyg</th><th>e_dyg_lc</th><th>e_bkr</th><th>bkr</th><th>e_bkr_lc</th><th>e_n</th><th>n</th><th>e_n_lc</th><th>hlrr</th><th>chi2r</th><th>c1r</th><th>c2r</th><th>c3r</th><th>c4r</th><th>asymr</th><th>e_asymr</th><th>Az21r</th><th>Az22r</th><th>Az31r</th><th>Az32r</th><th>Az51r</th><th>Az52r</th><th>Dzr</th><th>RT11r</th><th>RT12r</th><th>RT13r</th><th>RA11r</th><th>RA12r</th><th>RA13r</th><th>prcflag</th><th>raddkpc</th><th>radbkpc</th><th>hlrrkpc</th><th>R50r</th><th>mu50r</th><th>Vmax</th><th>rMAGG</th><th>rMAGb</th><th>rMAGd</th><th>gMAGG</th><th>gMAGb</th><th>gMAGd</th><th>Ag</th><th>gPmag</th><th>e_Fg</th><th>Fg</th><th>e_fg_lc</th><th>e_B_Tg</th><th>B_Tg</th><th>e_b_tg_lc</th><th>e_gmag</th><th>gmag</th><th>e_gmag_lc</th><th>hlrg</th><th>hlrgkpc</th><th>chi2g</th><th>e_bkg</th><th>bkg</th><th>e_bkg_lc</th><th>c1g</th><th>c2g</th><th>c3g</th><th>c4g</th><th>R50g</th><th>mu50g</th><th>asymg</th><th>e_asymg</th><th>Az21g</th><th>Az22g</th><th>Az31g</th><th>Az32g</th><th>Az51g</th><th>Az52g</th><th>Dzg</th><th>RT11g</th><th>RT12g</th><th>RT13g</th><th>RA11g</th><th>RA12g</th><th>RA13g</th><th>SpClass</th><th>e_dxr</th><th>dxr</th><th>e_dxr_lc</th><th>e_dyr</th><th>dyr</th><th>e_dyr_lc</th><th>crhg</th><th>crhr</th><th>PpS</th><th>Pn4</th><th>Npxfit0</th><th>Npxfit1</th><th>e_skyr</th><th>e_skyg</th><th>skyr</th><th>skyg</th><th>skyNpixg</th><th>skyNpixr</th></tr></thead>\n",
       "<thead><tr><th></th><th></th><th></th><th>deg</th><th>deg</th><th></th><th></th><th></th><th></th><th></th><th>mag</th><th>mag</th><th></th><th></th><th></th><th></th><th>&apos;Y:M:D&apos;</th><th>&apos;Y:M:D&apos;</th><th>ct / s</th><th>ct / s</th><th>ct / s</th><th>mag</th><th>mag</th><th>mag</th><th></th><th></th><th></th><th>arcsec</th><th>arcsec</th><th>arcsec</th><th></th><th></th><th></th><th>deg</th><th>deg</th><th>deg</th><th>arcsec</th><th>arcsec</th><th>arcsec</th><th>deg</th><th>deg</th><th>deg</th><th>deg</th><th>deg</th><th>deg</th><th>pix</th><th>pix</th><th>pix</th><th>pix</th><th>pix</th><th>pix</th><th>ct / s</th><th>ct / s</th><th>ct / s</th><th></th><th></th><th></th><th>arcsec</th><th></th><th></th><th></th><th></th><th></th><th></th><th></th><th></th><th></th><th></th><th></th><th></th><th></th><th></th><th></th><th></th><th></th><th></th><th></th><th></th><th></th><th>kpc</th><th>kpc</th><th>kpc</th><th>arcsec</th><th>mag / arcsec2</th><th>Mpc3</th><th>mag</th><th>mag</th><th>mag</th><th>mag</th><th>mag</th><th>mag</th><th>mag</th><th>mag</th><th>ct / s</th><th>ct / s</th><th>ct / s</th><th></th><th></th><th></th><th>mag</th><th>mag</th><th>mag</th><th>arcsec</th><th>kpc</th><th></th><th>ct / s</th><th>ct / s</th><th>ct / s</th><th></th><th></th><th></th><th></th><th>arcsec</th><th>mag / arcsec2</th><th></th><th></th><th></th><th></th><th></th><th></th><th></th><th></th><th></th><th></th><th></th><th></th><th></th><th></th><th></th><th></th><th>pix</th><th>pix</th><th>pix</th><th>pix</th><th>pix</th><th>pix</th><th>arcsec</th><th>arcsec</th><th></th><th></th><th></th><th></th><th>ct / (pix s)</th><th>ct / (pix s)</th><th>ct / (pix s)</th><th>ct / (pix s)</th><th></th><th></th></tr></thead>\n",
       "<thead><tr><th>int32</th><th>int64</th><th>int64</th><th>float64</th><th>float64</th><th>int16</th><th>int16</th><th>int16</th><th>int16</th><th>int16</th><th>float64</th><th>float64</th><th>float64</th><th>int16</th><th>int16</th><th>bytes15</th><th>bytes10</th><th>bytes10</th><th>float64</th><th>float64</th><th>float64</th><th>float64</th><th>float64</th><th>float64</th><th>float64</th><th>float64</th><th>float64</th><th>float64</th><th>float64</th><th>float64</th><th>float64</th><th>float64</th><th>float64</th><th>float64</th><th>float64</th><th>float64</th><th>float64</th><th>float64</th><th>float64</th><th>float64</th><th>float64</th><th>float64</th><th>float64</th><th>float64</th><th>float64</th><th>float64</th><th>float64</th><th>float64</th><th>float64</th><th>float64</th><th>float64</th><th>int16</th><th>float64</th><th>int16</th><th>float64</th><th>float64</th><th>float64</th><th>float64</th><th>float64</th><th>float64</th><th>float64</th><th>float64</th><th>float64</th><th>float64</th><th>float64</th><th>float64</th><th>float64</th><th>float64</th><th>float64</th><th>float64</th><th>float64</th><th>float64</th><th>float64</th><th>float64</th><th>float64</th><th>float64</th><th>float64</th><th>float64</th><th>int16</th><th>float64</th><th>float64</th><th>float64</th><th>float64</th><th>float64</th><th>int16</th><th>float64</th><th>float64</th><th>float64</th><th>float64</th><th>float64</th><th>float64</th><th>float64</th><th>float64</th><th>float64</th><th>float64</th><th>float64</th><th>float64</th><th>float64</th><th>float64</th><th>float64</th><th>float64</th><th>float64</th><th>float64</th><th>float64</th><th>float64</th><th>int16</th><th>float64</th><th>int16</th><th>float64</th><th>float64</th><th>float64</th><th>float64</th><th>float64</th><th>float64</th><th>float64</th><th>float64</th><th>float64</th><th>float64</th><th>float64</th><th>float64</th><th>float64</th><th>float64</th><th>float64</th><th>float64</th><th>float64</th><th>float64</th><th>float64</th><th>float64</th><th>float64</th><th>int16</th><th>float64</th><th>float64</th><th>float64</th><th>float64</th><th>float64</th><th>float64</th><th>float64</th><th>float64</th><th>float64</th><th>float64</th><th>int32</th><th>int32</th><th>float64</th><th>float64</th><th>float64</th><th>float64</th><th>int32</th><th>int32</th></tr></thead>\n",
       "<tr><td>6533</td><td>8647475122499617250</td><td>587731187798573255</td><td>323.618</td><td>1.22123</td><td>206</td><td>2</td><td>6</td><td>158</td><td>482</td><td>15.15</td><td>0.162</td><td>0.064256</td><td>185</td><td>185</td><td>r01u36.llaima.u</td><td>2018-01-09</td><td>2018-01-09</td><td>3555.0</td><td>1087520.0</td><td>4891.0</td><td>0.005</td><td>14.909</td><td>0.004</td><td>0.005</td><td>0.406</td><td>0.044</td><td>0.0978434</td><td>3.41699</td><td>0.730458</td><td>0.016</td><td>0.507</td><td>0.007</td><td>0.428</td><td>101.178</td><td>0.314</td><td>0.183407</td><td>5.93161</td><td>0.034463</td><td>0.038</td><td>51.787</td><td>0.042</td><td>0.032</td><td>95.972</td><td>0.173</td><td>0.016</td><td>0.926</td><td>0.005</td><td>0.01</td><td>0.829</td><td>0.012</td><td>0</td><td>2.363</td><td>0</td><td>0.082</td><td>7.515</td><td>0.426</td><td>7.92254</td><td>3.4608</td><td>0.398</td><td>0.529</td><td>0.627</td><td>0.721</td><td>0.057</td><td>0.029</td><td>0.03</td><td>0.05</td><td>0.026</td><td>0.044</td><td>0.01</td><td>0.017</td><td>0.052</td><td>0.043</td><td>0.057</td><td>0.067</td><td>0.023</td><td>0.033</td><td>0.051</td><td>0</td><td>7.32708</td><td>4.22087</td><td>9.7864</td><td>4.77846</td><td>20.5419</td><td>0</td><td>-22.6442</td><td>-21.6655</td><td>-22.0786</td><td>-21.9757</td><td>-20.905</td><td>-21.4689</td><td>0.224</td><td>16.07</td><td>652.6</td><td>479464.0</td><td>713.7</td><td>0.006</td><td>0.373</td><td>0.048</td><td>0.002</td><td>15.798</td><td>0.001</td><td>8.1206</td><td>10.0311</td><td>2.6402</td><td>0</td><td>1.733</td><td>0</td><td>0.364</td><td>0.521</td><td>0.615</td><td>0.703</td><td>4.8932</td><td>21.5134</td><td>0.06</td><td>0.037</td><td>0.029</td><td>0.061</td><td>0.024</td><td>0.055</td><td>0.007</td><td>0.023</td><td>0.062</td><td>0.043</td><td>0.059</td><td>0.07</td><td>0.024</td><td>0.031</td><td>0.049</td><td>0</td><td>0.01</td><td>0.872</td><td>0.021</td><td>0.033</td><td>1.013</td><td>0.009</td><td>6.48856</td><td>6.31823</td><td>0.0</td><td>0.299403</td><td>19220</td><td>7444</td><td>0.045576</td><td>0.027408</td><td>1.85294</td><td>1.46125</td><td>20000</td><td>20000</td></tr>\n",
       "<tr><td>7950</td><td>8647475122499617460</td><td>587731187798638924</td><td>323.65</td><td>1.12144</td><td>206</td><td>2</td><td>6</td><td>158</td><td>692</td><td>17.24</td><td>0.171</td><td>0.049916</td><td>79</td><td>79</td><td>r01u32.llaima.u</td><td>2018-01-09</td><td>2018-01-09</td><td>800.9</td><td>152040.0</td><td>268.4</td><td>0.002</td><td>17.045</td><td>0.006</td><td>0.021</td><td>0.83</td><td>0.009</td><td>0.0546655</td><td>1.45814</td><td>0.0126761</td><td>0.027</td><td>0.316</td><td>0.011</td><td>0.371</td><td>19.768</td><td>0.446</td><td>0.00594191</td><td>0.908319</td><td>0.00396127</td><td>0.079</td><td>63.395</td><td>0.117</td><td>0.256</td><td>20.396</td><td>0.435</td><td>0.01</td><td>0.723</td><td>0.006</td><td>0.009</td><td>0.816</td><td>0.007</td><td>0</td><td>0.028</td><td>0</td><td>0.011</td><td>5.815</td><td>0.017</td><td>1.48151</td><td>1.0415</td><td>0.658</td><td>0.799</td><td>0.864</td><td>0.905</td><td>0.082</td><td>0.029</td><td>-0.001</td><td>-0.001</td><td>0.0</td><td>0.0</td><td>0.0</td><td>0.0</td><td>0.008</td><td>0.01</td><td>0.009</td><td>0.01</td><td>0.006</td><td>0.005</td><td>0.004</td><td>0</td><td>0.886474</td><td>1.42307</td><td>1.44588</td><td>1.38515</td><td>19.9429</td><td>0</td><td>-19.9185</td><td>-19.7162</td><td>-17.9946</td><td>-19.2272</td><td>-19.0131</td><td>-17.3594</td><td>0.236</td><td>18.07</td><td>109.53</td><td>69691.8</td><td>109.12</td><td>0.012</td><td>0.821</td><td>0.006</td><td>0.002</td><td>17.892</td><td>0.002</td><td>1.48151</td><td>1.44588</td><td>1.0783</td><td>0</td><td>-0.142</td><td>0</td><td>0.649</td><td>0.796</td><td>0.857</td><td>0.901</td><td>1.41455</td><td>20.8185</td><td>0.086</td><td>0.032</td><td>0.001</td><td>0.002</td><td>0.0</td><td>0.0</td><td>0.0</td><td>0.0</td><td>0.006</td><td>0.006</td><td>0.007</td><td>0.009</td><td>0.005</td><td>0.002</td><td>0.005</td><td>0</td><td>0.016</td><td>0.686</td><td>0.006</td><td>0.01</td><td>0.945</td><td>0.007</td><td>1.23592</td><td>1.23988</td><td>0.322335</td><td>0.402734</td><td>4325</td><td>1415</td><td>0.042343</td><td>0.025294</td><td>-3.18547</td><td>-1.86684</td><td>20000</td><td>20000</td></tr>\n",
       "<tr><td>8096</td><td>8647474693002887236</td><td>587730848502579381</td><td>323.522</td><td>0.924575</td><td>106</td><td>2</td><td>6</td><td>158</td><td>68</td><td>16.51</td><td>0.155</td><td>0.068833</td><td>83</td><td>83</td><td>r02u38.llaima.u</td><td>2018-01-09</td><td>2018-01-09</td><td>90.0</td><td>261662.0</td><td>76.4</td><td>0.0</td><td>16.456</td><td>0.0</td><td>0.004</td><td>0.692</td><td>0.003</td><td>0.000396127</td><td>1.50607</td><td>0.000396127</td><td>0.003</td><td>0.513</td><td>0.004</td><td>0.035</td><td>65.528</td><td>0.027</td><td>0.000792254</td><td>2.15652</td><td>0.000396127</td><td>0.008</td><td>48.415</td><td>0.013</td><td>0.019</td><td>69.912</td><td>0.022</td><td>0.001</td><td>1.13</td><td>0.001</td><td>0.001</td><td>0.946</td><td>0.001</td><td>0</td><td>-0.262</td><td>0</td><td>0.052</td><td>2.759</td><td>0.001</td><td>2.09551</td><td>1.4844</td><td>0.561</td><td>0.71</td><td>0.794</td><td>0.855</td><td>0.027</td><td>0.021</td><td>0.007</td><td>0.009</td><td>0.006</td><td>0.006</td><td>0.001</td><td>0.001</td><td>0.011</td><td>0.016</td><td>0.019</td><td>0.019</td><td>0.011</td><td>0.013</td><td>0.015</td><td>0</td><td>2.83834</td><td>1.98225</td><td>2.75805</td><td>1.8161</td><td>19.8011</td><td>0</td><td>-21.2045</td><td>-20.8047</td><td>-19.9258</td><td>-20.5662</td><td>-20.0007</td><td>-19.5875</td><td>0.214</td><td>17.3</td><td>17.5</td><td>128782.0</td><td>15.4</td><td>0.0</td><td>0.594</td><td>0.001</td><td>0.0</td><td>17.225</td><td>0.0</td><td>2.31734</td><td>3.05002</td><td>1.4388</td><td>0</td><td>-0.317</td><td>0</td><td>0.527</td><td>0.68</td><td>0.773</td><td>0.839</td><td>1.9409</td><td>20.7355</td><td>0.028</td><td>0.025</td><td>0.008</td><td>0.016</td><td>0.008</td><td>0.012</td><td>0.001</td><td>0.001</td><td>0.004</td><td>0.019</td><td>0.024</td><td>0.028</td><td>0.016</td><td>0.018</td><td>0.018</td><td>0</td><td>0.007</td><td>1.095</td><td>0.007</td><td>0.009</td><td>1.019</td><td>0.006</td><td>1.82615</td><td>1.63204</td><td>0.07231</td><td>0.161693</td><td>5106</td><td>1546</td><td>0.051652</td><td>0.030396</td><td>-1.45401</td><td>-1.0086</td><td>20000</td><td>20000</td></tr>\n",
       "<tr><td>8262</td><td>8647474693002888283</td><td>587730848502645134</td><td>323.591</td><td>0.891305</td><td>106</td><td>2</td><td>6</td><td>158</td><td>1115</td><td>16.87</td><td>0.158</td><td>0.180184</td><td>119</td><td>119</td><td>r01u36.llaima.u</td><td>2018-01-09</td><td>2018-01-09</td><td>208.8</td><td>219980.0</td><td>171.0</td><td>0.001</td><td>16.644</td><td>0.001</td><td>0.003</td><td>0.468</td><td>0.003</td><td>0.00237676</td><td>2.90955</td><td>0.00356514</td><td>0.007</td><td>0.388</td><td>0.01</td><td>0.053</td><td>51.876</td><td>0.051</td><td>0.0043574</td><td>6.1059</td><td>0.00277289</td><td>0.018</td><td>55.188</td><td>0.028</td><td>0.047</td><td>37.398</td><td>0.086</td><td>0.007</td><td>0.669</td><td>0.004</td><td>0.002</td><td>0.795</td><td>0.002</td><td>0</td><td>-0.246</td><td>0</td><td>0.068</td><td>4.921</td><td>0.053</td><td>6.9243</td><td>1.3183</td><td>0.352</td><td>0.518</td><td>0.616</td><td>0.695</td><td>0.088</td><td>0.067</td><td>-0.004</td><td>-0.004</td><td>0.0</td><td>-0.001</td><td>0.0</td><td>0.0</td><td>0.039</td><td>0.028</td><td>0.025</td><td>0.024</td><td>0.024</td><td>0.02</td><td>0.02</td><td>0</td><td>18.547</td><td>8.83792</td><td>21.0329</td><td>4.2357</td><td>22.0001</td><td>0</td><td>-23.4459</td><td>-22.6215</td><td>-22.7607</td><td>-22.7354</td><td>-21.8489</td><td>-22.102</td><td>0.218</td><td>18.11</td><td>25.25</td><td>71569.5</td><td>33.95</td><td>0.002</td><td>0.442</td><td>0.003</td><td>0.001</td><td>17.863</td><td>0.0</td><td>7.14613</td><td>21.7068</td><td>1.1081</td><td>0</td><td>-0.349</td><td>0</td><td>0.356</td><td>0.511</td><td>0.614</td><td>0.692</td><td>4.29346</td><td>23.2695</td><td>0.081</td><td>0.093</td><td>-0.004</td><td>-0.003</td><td>0.002</td><td>-0.003</td><td>0.0</td><td>0.0</td><td>0.035</td><td>0.026</td><td>0.018</td><td>0.017</td><td>0.026</td><td>0.023</td><td>0.021</td><td>0</td><td>0.012</td><td>0.647</td><td>0.014</td><td>0.013</td><td>0.944</td><td>0.01</td><td>5.61708</td><td>5.45071</td><td>1.3e-05</td><td>0.4689</td><td>9289</td><td>3354</td><td>0.051223</td><td>0.030633</td><td>-1.17421</td><td>-0.942026</td><td>20000</td><td>20000</td></tr>\n",
       "<tr><td>8738</td><td>8647475122499616988</td><td>587731187798573427</td><td>323.544</td><td>1.06378</td><td>206</td><td>2</td><td>6</td><td>158</td><td>220</td><td>17.14</td><td>0.173</td><td>0.06233</td><td>99</td><td>99</td><td>r01u36.llaima.u</td><td>2018-01-09</td><td>2018-01-09</td><td>100.4</td><td>193010.0</td><td>108.0</td><td>0.001</td><td>16.786</td><td>0.001</td><td>0.046</td><td>0.961</td><td>0.007</td><td>0.00554578</td><td>3.82976</td><td>0.00277289</td><td>0.02</td><td>0.075</td><td>0.006</td><td>0.046</td><td>130.059</td><td>0.066</td><td>0.00514965</td><td>2.0151</td><td>0.00950705</td><td>0.021</td><td>29.746</td><td>0.021</td><td>0.032</td><td>120.503</td><td>0.127</td><td>0.002</td><td>0.517</td><td>0.001</td><td>0.001</td><td>1.44</td><td>0.006</td><td>0</td><td>3.675</td><td>0</td><td>0.006</td><td>6.691</td><td>0.735</td><td>3.80282</td><td>1.102</td><td>0.488</td><td>0.63</td><td>0.729</td><td>0.797</td><td>0.104</td><td>0.047</td><td>0.002</td><td>0.002</td><td>0.001</td><td>0.001</td><td>0.0</td><td>0.0</td><td>0.011</td><td>0.023</td><td>0.019</td><td>0.018</td><td>0.01</td><td>0.008</td><td>0.007</td><td>0</td><td>2.42003</td><td>4.59934</td><td>4.56699</td><td>2.38204</td><td>21.0202</td><td>0</td><td>-20.7657</td><td>-20.7225</td><td>-17.2434</td><td>-20.1943</td><td>-20.1049</td><td>-17.4384</td><td>0.239</td><td>17.92</td><td>80.83</td><td>89747.6</td><td>56.57</td><td>0.003</td><td>0.921</td><td>0.001</td><td>0.001</td><td>17.617</td><td>0.001</td><td>3.75925</td><td>4.51466</td><td>1.0891</td><td>0</td><td>3.498</td><td>0</td><td>0.468</td><td>0.61</td><td>0.72</td><td>0.783</td><td>2.55286</td><td>21.9506</td><td>0.101</td><td>0.055</td><td>0.012</td><td>0.008</td><td>0.002</td><td>0.001</td><td>0.0</td><td>0.0</td><td>0.009</td><td>0.027</td><td>0.024</td><td>0.026</td><td>0.011</td><td>0.012</td><td>0.011</td><td>0</td><td>0.008</td><td>1.427</td><td>0.009</td><td>0.008</td><td>0.601</td><td>0.01</td><td>3.64437</td><td>3.69586</td><td>0.301768</td><td>0.289189</td><td>7084</td><td>2291</td><td>0.042821</td><td>0.026367</td><td>2.92736</td><td>3.23422</td><td>20000</td><td>20000</td></tr>\n",
       "<tr><td>9752</td><td>8647474693002887538</td><td>587730848502645082</td><td>323.572</td><td>1.04647</td><td>106</td><td>2</td><td>6</td><td>158</td><td>370</td><td>17.18</td><td>0.176</td><td>0.062289</td><td>91</td><td>91</td><td>r02u35.llaima.u</td><td>2018-01-10</td><td>2018-01-10</td><td>507.7</td><td>137785.0</td><td>510.8</td><td>0.004</td><td>17.152</td><td>0.004</td><td>0.008</td><td>0.229</td><td>0.006</td><td>0.0142606</td><td>1.26048</td><td>0.00713029</td><td>0.001</td><td>0.001</td><td>0.015</td><td>0.769</td><td>149.906</td><td>0.334</td><td>0.0384243</td><td>4.51109</td><td>0.0364437</td><td>0.112</td><td>79.367</td><td>0.142</td><td>0.139</td><td>182.835</td><td>0.391</td><td>0.063</td><td>1.382</td><td>0.053</td><td>0.12</td><td>-0.186</td><td>0.133</td><td>0</td><td>0.305</td><td>0</td><td>0.367</td><td>4.88</td><td>0.439</td><td>6.14393</td><td>3.0534</td><td>0.305</td><td>0.444</td><td>0.589</td><td>0.673</td><td>0.138</td><td>0.051</td><td>0.151</td><td>0.14</td><td>0.11</td><td>0.102</td><td>0.059</td><td>0.051</td><td>0.09</td><td>0.11</td><td>0.131</td><td>0.137</td><td>0.053</td><td>0.096</td><td>0.103</td><td>0</td><td>5.41429</td><td>1.51284</td><td>7.37404</td><td>3.86789</td><td>22.1128</td><td>0</td><td>-20.3178</td><td>-18.7174</td><td>-20.0354</td><td>-19.9125</td><td>-18.2686</td><td>-19.6428</td><td>0.243</td><td>17.63</td><td>248.41</td><td>88165.3</td><td>124.7</td><td>0.006</td><td>0.22</td><td>0.008</td><td>0.002</td><td>17.637</td><td>0.003</td><td>6.21127</td><td>7.45487</td><td>4.6727</td><td>0</td><td>0.294</td><td>0</td><td>0.303</td><td>0.439</td><td>0.569</td><td>0.665</td><td>4.08263</td><td>22.6801</td><td>0.175</td><td>0.048</td><td>0.168</td><td>0.145</td><td>0.119</td><td>0.103</td><td>0.065</td><td>0.055</td><td>0.08</td><td>0.126</td><td>0.162</td><td>0.161</td><td>0.133</td><td>0.152</td><td>0.145</td><td>0</td><td>0.028</td><td>1.325</td><td>0.028</td><td>0.059</td><td>0.818</td><td>0.064</td><td>3.75528</td><td>3.72359</td><td>0.397645</td><td>0.711177</td><td>6386</td><td>1887</td><td>0.051686</td><td>0.030195</td><td>-0.949941</td><td>-0.119451</td><td>20000</td><td>20000</td></tr>\n",
       "</table></div>"
      ],
      "text/plain": [
       "<Table length=6>\n",
       "recno        S82ID              SDSSID       ...     skyg     skyNpixg skyNpixr\n",
       "                                             ... ct / (pix s)                  \n",
       "int32        int64              int64        ...   float64     int32    int32  \n",
       "----- ------------------- ------------------ ... ------------ -------- --------\n",
       " 6533 8647475122499617250 587731187798573255 ...      1.46125    20000    20000\n",
       " 7950 8647475122499617460 587731187798638924 ...     -1.86684    20000    20000\n",
       " 8096 8647474693002887236 587730848502579381 ...      -1.0086    20000    20000\n",
       " 8262 8647474693002888283 587730848502645134 ...    -0.942026    20000    20000\n",
       " 8738 8647475122499616988 587731187798573427 ...      3.23422    20000    20000\n",
       " 9752 8647474693002887538 587730848502645082 ...    -0.119451    20000    20000"
      ]
     },
     "execution_count": 96,
     "metadata": {},
     "output_type": "execute_result"
    }
   ],
   "source": [
    "cat[mask]"
   ]
  },
  {
   "cell_type": "code",
   "execution_count": null,
   "metadata": {},
   "outputs": [],
   "source": []
  },
  {
   "cell_type": "code",
   "execution_count": null,
   "metadata": {},
   "outputs": [],
   "source": []
  },
  {
   "cell_type": "code",
   "execution_count": null,
   "metadata": {},
   "outputs": [],
   "source": []
  }
 ],
 "metadata": {
  "kernelspec": {
   "display_name": "py39",
   "language": "python",
   "name": "python3"
  },
  "language_info": {
   "codemirror_mode": {
    "name": "ipython",
    "version": 3
   },
   "file_extension": ".py",
   "mimetype": "text/x-python",
   "name": "python",
   "nbconvert_exporter": "python",
   "pygments_lexer": "ipython3",
   "version": "3.7.10"
  },
  "orig_nbformat": 4
 },
 "nbformat": 4,
 "nbformat_minor": 2
}
