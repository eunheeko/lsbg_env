{
 "cells": [
  {
   "cell_type": "code",
   "execution_count": 13,
   "metadata": {},
   "outputs": [],
   "source": [
    "import matplotlib.pyplot as plt \n",
    "import numpy as np\n",
    "\n",
    "from astropy.table import Table\n",
    "\n",
    "from astropy import units as u\n",
    "from astropy.coordinates import SkyCoord\n",
    "\n",
    "from astropy.cosmology import FlatLambdaCDM\n",
    "cosmo = FlatLambdaCDM(H0=70, Om0=0.3, Tcmb0=2.725)"
   ]
  },
  {
   "cell_type": "code",
   "execution_count": 21,
   "metadata": {},
   "outputs": [],
   "source": [
    "# dimensionless hubble parameter\n",
    "h = 0.7"
   ]
  },
  {
   "cell_type": "markdown",
   "metadata": {},
   "source": [
    "# Data"
   ]
  },
  {
   "cell_type": "markdown",
   "metadata": {},
   "source": [
    "### Group catalog from Yang+07"
   ]
  },
  {
   "cell_type": "code",
   "execution_count": 14,
   "metadata": {},
   "outputs": [],
   "source": [
    "grps = Table.read(\"./data/group_DR7/modelA_group\", format = 'ascii')\n",
    "\n",
    "# Assign column names\n",
    "grps['col1'].name = 'id'\n",
    "grps['col2'].name = 'RA'\n",
    "grps['col3'].name = 'dec'\n",
    "grps['col4'].name = 'z'\n",
    "grps['col5'].name = 'L'\n",
    "grps['col6'].name = 'sm'\n",
    "grps['col7'].name = 'hm1'\n",
    "grps['col8'].name = 'hm2'\n",
    "grps['col9'].name = 'mean_sep1'\n",
    "grps['col10'].name = 'mean_sep2'\n",
    "grps['col11'].name = 'f_edge'\n",
    "grps['col12'].name = 'ID1'\n",
    "grps['col13'].name = 'ID2'\n",
    "\n",
    "# mask - halo masses more massive than 5e12 solar masses\n",
    "mask_m = (grps['hm1'] > np.log10(5e12))\n",
    "# mask - redshift at 0.015 < z < 0.055\n",
    "mask_z = (grps['z'] > 0.015) & (grps['z'] < 0.055)\n",
    "# mask - RA & Dec within the survey area\n",
    "mask_coord = ((grps['RA'] < 70) | (grps['RA'] > 290)) & ((grps['dec'] < 5) & (grps['dec'] > -5))\n",
    "## final mask satisfying the above conditions\n",
    "mask_grp = mask_m & mask_z & mask_coord\n",
    "\n",
    "# final samples after masking\n",
    "grps = grps[mask_grp]"
   ]
  },
  {
   "cell_type": "code",
   "execution_count": 15,
   "metadata": {},
   "outputs": [
    {
     "data": {
      "text/plain": [
       "91"
      ]
     },
     "execution_count": 15,
     "metadata": {},
     "output_type": "execute_result"
    }
   ],
   "source": [
    "# number of group samples\n",
    "len(grps)"
   ]
  },
  {
   "cell_type": "code",
   "execution_count": 16,
   "metadata": {},
   "outputs": [],
   "source": [
    "# ra, dec, redshift, distance of group samples\n",
    "ra_grp = grps['RA']\n",
    "dec_grp = grps['dec']\n",
    "zz_grp = grps['z']\n",
    "dist_grp = cosmo.comoving_distance(zz_grp).value # Mpc\n",
    "\n",
    "# transform (ra, dec, distance) into cartesian (x, y, z) for cosmic web calculation\n",
    "coords = SkyCoord(ra = ra_grp * u.degree, dec = dec_grp * u.degree, distance = dist_grp * u.Mpc)\n",
    "\n",
    "x_grp = coords.cartesian.x\n",
    "y_grp = coords.cartesian.y\n",
    "z_grp = coords.cartesian.z"
   ]
  },
  {
   "cell_type": "markdown",
   "metadata": {},
   "source": [
    "### Galaxies from Bottrell+19"
   ]
  },
  {
   "cell_type": "code",
   "execution_count": 17,
   "metadata": {},
   "outputs": [
    {
     "name": "stderr",
     "output_type": "stream",
     "text": [
      "WARNING: VerifyWarning: Invalid keyword for column 85: ASCII table null option (TNULLn) is longer than the column's character width and will be truncated (got '255'). [astropy.io.fits.column]\n",
      "WARNING: VerifyWarning: Invalid keyword for column 130: ASCII table null option (TNULLn) is longer than the column's character width and will be truncated (got '255'). [astropy.io.fits.column]\n",
      "WARNING: VerifyWarning: Invalid keyword for column 147: ASCII table null option (TNULLn) is longer than the column's character width and will be truncated (got '-2147483648'). [astropy.io.fits.column]\n",
      "WARNING: VerifyWarning: Invalid keyword for column 148: ASCII table null option (TNULLn) is longer than the column's character width and will be truncated (got '-2147483648'). [astropy.io.fits.column]\n"
     ]
    }
   ],
   "source": [
    "cat = Table.read(\"./data/s82grfn.fit\")"
   ]
  },
  {
   "cell_type": "code",
   "execution_count": 6,
   "metadata": {},
   "outputs": [],
   "source": [
    "# ra, dec, redshift, distance of galaxy samples\n",
    "ra_gal = cat['RAJ2000'].value\n",
    "dec_gal = cat['DEJ2000'].value\n",
    "zz_gal = cat['z'].value\n",
    "\n",
    "dist_gal = cosmo.comoving_distance(zz_gal).value # Mpc\n",
    "\n",
    "# transform (ra, dec, distance) into cartesian (x, y, z) for cosmic web calculation\n",
    "coords_gal = SkyCoord(ra = ra_gal * u.degree, dec = dec_gal * u.degree, distance = dist_gal * u.Mpc)\n",
    "\n",
    "x_gal = coords_gal.cartesian.x\n",
    "y_gal = coords_gal.cartesian.y\n",
    "z_gal = coords_gal.cartesian.z"
   ]
  },
  {
   "cell_type": "markdown",
   "metadata": {},
   "source": [
    "# Comic Web Indentification"
   ]
  },
  {
   "cell_type": "code",
   "execution_count": 7,
   "metadata": {},
   "outputs": [],
   "source": [
    "# import customized util functions\n",
    "from utils.mistree import construct_mst, get_graph_degree, get_branch_index, get_branch_end_index"
   ]
  },
  {
   "cell_type": "code",
   "execution_count": 8,
   "metadata": {},
   "outputs": [],
   "source": [
    "# set the nearest neighbor number k\n",
    "k_neighbours=20\n",
    "# number of groups (nodes)\n",
    "number_of_nodes = len(x_grp)\n",
    "\n",
    "## MST algorithms\n",
    "edge_length, edge_x, edge_y, edge_z, edge_index = construct_mst(x_grp, y_grp, z_grp, k_neighbours)\n",
    "degree, edge_degree = get_graph_degree(edge_index, number_of_nodes)\n",
    "branch_index, rejected_branch_index = get_branch_index(edge_index, edge_degree)"
   ]
  },
  {
   "cell_type": "markdown",
   "metadata": {},
   "source": [
    "### 1. Cluster"
   ]
  },
  {
   "cell_type": "code",
   "execution_count": 10,
   "metadata": {},
   "outputs": [],
   "source": [
    "# member galaxy catalog matched with Yang+07 groups\n",
    "matched_ids = Table.read('./data/galaxy_DR7/SDSS7_S82_matched_id.cat', format = 'ascii')\n",
    "\n",
    "## match the Bottrell galaxy catalog (cat) with member galaxy catalog from Yang+07 (matched_ids)\n",
    "mask_cluster = np.isin(cat['recno'], matched_ids['s82_recno'])"
   ]
  },
  {
   "cell_type": "code",
   "execution_count": 11,
   "metadata": {},
   "outputs": [
    {
     "data": {
      "text/plain": [
       "885"
      ]
     },
     "execution_count": 11,
     "metadata": {},
     "output_type": "execute_result"
    }
   ],
   "source": [
    "# the number of cluster galaxies\n",
    "sum(mask_cluster)"
   ]
  },
  {
   "cell_type": "markdown",
   "metadata": {},
   "source": [
    "### 2. Filament"
   ]
  },
  {
   "cell_type": "code",
   "execution_count": 23,
   "metadata": {},
   "outputs": [],
   "source": [
    "from scipy import spatial"
   ]
  },
  {
   "cell_type": "code",
   "execution_count": 24,
   "metadata": {},
   "outputs": [],
   "source": [
    "# calculate the KDT tree using the location of groups (nodes).\n",
    "tree = spatial.cKDTree(np.array([x_grp, y_grp, z_grp]).T)\n",
    "\n",
    "# distance to the k-th nearest node and its pair. Setting k = 2\n",
    "d_node = tree.query(np.array([x_gal, y_gal, z_gal]).T, k = 2)"
   ]
  },
  {
   "cell_type": "code",
   "execution_count": 22,
   "metadata": {},
   "outputs": [],
   "source": [
    "# find filament galaxy candidates whose edge length is shorter than 5.75/h\n",
    "mask_link = edge_length < 5.75 / h\n",
    "# the index of the filament galaxy candidates\n",
    "grp_index = np.where(mask_link)[0]\n",
    "\n",
    "mask_cand1 = np.isin(d_node[1][:, 0], grp_index)\n",
    "mask_cand2 = np.isin(d_node[1][:, 1], grp_index)\n",
    "mask_cand = mask_cand1 & mask_cand2"
   ]
  },
  {
   "cell_type": "code",
   "execution_count": 25,
   "metadata": {},
   "outputs": [],
   "source": [
    "# position vector of the \"GROUP\" galaxies\n",
    "P1 = np.array([x_grp[d_node[1][:, 0]], y_grp[d_node[1][:, 0]], z_grp[d_node[1][:, 0]]]).T\n",
    "P2 = np.array([x_grp[d_node[1][:, 1]], y_grp[d_node[1][:, 1]], z_grp[d_node[1][:, 1]]]).T\n",
    "\n",
    "Pgal = np.array([x_gal, y_gal, z_gal]).T"
   ]
  },
  {
   "cell_type": "code",
   "execution_count": 27,
   "metadata": {},
   "outputs": [],
   "source": [
    "# distance between filament galaxy candidates and group galaxies\n",
    "d_fil = np.linalg.norm(\n",
    "    np.cross(P2 - Pgal, P1 - Pgal)\n",
    "    , axis = 1) / np.linalg.norm(P2 - P1, axis = 1) "
   ]
  },
  {
   "cell_type": "code",
   "execution_count": 28,
   "metadata": {},
   "outputs": [],
   "source": [
    "# the final mask for the filament galaxies should satisfy:\n",
    "# (1) mask_cand: the edge length should be shorter than 5.75/h\n",
    "# (2) ~mask_cluster: should not be included in the cluster candidates\n",
    "# (3) d_fil < 4.12/h: filament distance condition\n",
    "mask_filament = mask_cand & ~mask_cluster & (d_fil < 4.12 / h)"
   ]
  },
  {
   "cell_type": "markdown",
   "metadata": {},
   "source": [
    "### 3. Tendrils"
   ]
  },
  {
   "cell_type": "code",
   "execution_count": 29,
   "metadata": {},
   "outputs": [],
   "source": [
    "k_neighbours=20\n",
    "# remaining galaxies excluding cluster and filament galaxies\n",
    "mask_remain = (~mask_filament & ~mask_cluster).copy()\n",
    "# number of nodes (remaining \"GALAXY\" in this case)\n",
    "number_of_nodes_t = len(x_gal[mask_remain])\n",
    "\n",
    "## MST algorithms\n",
    "edge_length_t, edge_x_t, edge_y_t, edge_z_t, edge_index_t = construct_mst(x_gal[mask_remain], y_gal[mask_remain], z_gal[mask_remain], k_neighbours)\n",
    "degree_t, edge_degree_t = get_graph_degree(edge_index_t, number_of_nodes_t)\n",
    "branch_index_t, rejected_branch_index_t = get_branch_index(edge_index_t, edge_degree_t)"
   ]
  },
  {
   "cell_type": "code",
   "execution_count": 30,
   "metadata": {},
   "outputs": [],
   "source": [
    "# find tendril galaxy candidates whose edge length is shorter than 3.0/h\n",
    "mask_link_t = edge_length_t < 3.0 / h \n",
    "\n",
    "#flag mask for finding tendril galaxies\n",
    "mask_tendril = np.zeros(shape = len(mask_cluster), dtype = bool)\n",
    "## (1)  the edge length should be shorter than 3.0/h\n",
    "mask_tendril[\n",
    "    np.where(mask_remain)[0][edge_index_t[0][mask_link_t]]\n",
    "] = True\n",
    "\n",
    "mask_tendril[\n",
    "    np.where(mask_remain)[0][edge_index_t[1][mask_link_t]]\n",
    "] = True\n",
    "\n",
    "# (2) ~mask_cluster: should not be included in the cluster candidates\n",
    "mask_tendril[mask_cluster] = False\n",
    "# (3) ~mask_cluster: should not be included in the filament candidates\n",
    "mask_tendril[mask_filament] = False"
   ]
  },
  {
   "cell_type": "markdown",
   "metadata": {},
   "source": [
    "### 4. Void"
   ]
  },
  {
   "cell_type": "code",
   "execution_count": 31,
   "metadata": {},
   "outputs": [],
   "source": [
    "# mask_void: all the remaining galaxies after excluding cluter, filament, and tendril galaxies\n",
    "mask_void = ~mask_cluster & ~mask_filament & ~mask_tendril"
   ]
  },
  {
   "cell_type": "markdown",
   "metadata": {},
   "source": [
    "# Visualization"
   ]
  },
  {
   "cell_type": "code",
   "execution_count": 38,
   "metadata": {},
   "outputs": [
    {
     "data": {
      "image/png": "[encoded data removed]",
      "text/plain": [
       "<Figure size 576x432 with 1 Axes>"
      ]
     },
     "metadata": {
      "needs_background": "light"
     },
     "output_type": "display_data"
    }
   ],
   "source": [
    "fig, ax = plt.subplots(figsize = (8, 6), subplot_kw={'projection': 'polar'})\n",
    "\n",
    "\n",
    "theta_grp = ra_grp * np.pi / 180\n",
    "### location of groups\n",
    "# ax.scatter(theta_grp, zz_grp, s = 10, zorder = 5, color = 'black', alpha = .5)\n",
    "\n",
    "theta_gal = ra_gal * np.pi / 180\n",
    "### location of galaxies\n",
    "# ax.scatter(theta_gal, zz_gal, s = 1, label = 'all', color = 'gray')\n",
    "\n",
    "ax.scatter(theta_gal[mask_cluster], zz_gal[mask_cluster], s = 2, label = 'Cluster', zorder = 3, alpha = .3)\n",
    "ax.scatter(theta_gal[mask_filament], zz_gal[mask_filament], s = 1, label = 'Filament')\n",
    "ax.scatter(theta_gal[mask_tendril], zz_gal[mask_tendril], s = 1, label = 'Tendril', alpha = .6)\n",
    "ax.scatter(theta_gal[mask_void], zz_gal[mask_void], s = 1, label = 'Void')\n",
    "\n",
    "\n",
    "ax.set_thetalim(-np.pi/3, np.pi/3)\n",
    "ax.set_rlim(0, 0.055)\n",
    "\n",
    "# ax.set_ylabel('redshift', fontsize = 15)\n",
    "# ax.yaxis.set_label_position('right')\n",
    "# ax.set_xlabel('RA [deg]', fontsize = 15)\n",
    "\n",
    "ax.legend(fontsize = 13)\n",
    "\n",
    "ax.set_theta_zero_location(\"N\")"
   ]
  },
  {
   "cell_type": "markdown",
   "metadata": {},
   "source": [
    "# Density"
   ]
  },
  {
   "cell_type": "code",
   "execution_count": 39,
   "metadata": {},
   "outputs": [],
   "source": [
    "# calculate sigma3 (density from the 3-th nearest neighbours)\n",
    "tree_gals = spatial.cKDTree(np.array([x_gal, y_gal, z_gal]).T)\n",
    "d_node_gals = tree.query(np.array([x_gal, y_gal, z_gal]).T, k = 3)\n",
    "\n",
    "sig3 = 3 * np.pi**(-1) * (d_node_gals[0][:, 2])**(-2)\n",
    "sig3 = np.log10(sig3)"
   ]
  },
  {
   "cell_type": "code",
   "execution_count": 40,
   "metadata": {},
   "outputs": [
    {
     "data": {
      "text/plain": [
       "Text(0, 0.5, 'Frequency')"
      ]
     },
     "execution_count": 40,
     "metadata": {},
     "output_type": "execute_result"
    },
    {
     "data": {
      "image/png": "[encoded data removed]",
      "text/plain": [
       "<Figure size 576x432 with 1 Axes>"
      ]
     },
     "metadata": {
      "needs_background": "light"
     },
     "output_type": "display_data"
    }
   ],
   "source": [
    "fig, ax = plt.subplots(figsize = (8, 6))\n",
    "\n",
    "ax.hist(sig3[mask_cluster], color = 'darkorange', histtype = 'step', density = False, linewidth = 2, label = 'Group')\n",
    "ax.hist(sig3[mask_filament], color = 'red', histtype = 'step', density = False, linewidth = 2, label = 'Filament')\n",
    "ax.hist(sig3[mask_tendril], color = 'purple', histtype = 'step', density = False, linewidth = 2, label = 'Tendril')\n",
    "ax.hist(sig3[mask_void], color = 'darkblue', histtype = 'step', density = False, linewidth = 2, label = 'Void')\n",
    "\n",
    "ax.legend(fontsize = 15)\n",
    "\n",
    "ax.set_xlabel(r'$\\Sigma_{3}$ $[log(Mpc^{2})]$', fontsize = 15)\n",
    "ax.set_ylabel('Frequency', fontsize = 15)"
   ]
  },
  {
   "cell_type": "code",
   "execution_count": 24,
   "metadata": {
    "code_folding": [
     0
    ]
   },
   "outputs": [],
   "source": [
    "# theta_grp = ra_grp * np.pi / 180\n",
    "\n",
    "# fig, ax = plt.subplots(subplot_kw={'projection': 'polar'})\n",
    "\n",
    "# # mask_link = edge_length < 5.75 / 0.7\n",
    "# mask_link = edge_length < 15 / 0.7\n",
    "\n",
    "# ax.scatter(theta_grp, zz_grp, s = 10, zorder = 2, color = 'r')\n",
    "\n",
    "# ax.plot([theta_grp[edge_index[0][mask_link]], theta_grp[edge_index[1][mask_link]]],\n",
    "#         [zz_grp[edge_index[0][mask_link]], zz_grp[edge_index[1][mask_link]]],\n",
    "#          color = 'k' )\n",
    "\n",
    "# ax.set_thetalim(-np.pi/3, np.pi/3)\n",
    "\n",
    "# ax.set_xlabel('redshift', fontsize = 15)\n",
    "# ax.set_ylabel('RA [deg]', fontsize = 15)\n",
    "\n",
    "# # fig.savefig('result.png')"
   ]
  }
 ],
 "metadata": {
  "kernelspec": {
   "display_name": "Python 3",
   "language": "python",
   "name": "python3"
  },
  "language_info": {
   "codemirror_mode": {
    "name": "ipython",
    "version": 3
   },
   "file_extension": ".py",
   "mimetype": "text/x-python",
   "name": "python",
   "nbconvert_exporter": "python",
   "pygments_lexer": "ipython3",
   "version": "3.7.10"
  },
  "varInspector": {
   "cols": {
    "lenName": 16,
    "lenType": 16,
    "lenVar": 40
   },
   "kernels_config": {
    "python": {
     "delete_cmd_postfix": "",
     "delete_cmd_prefix": "del ",
     "library": "var_list.py",
     "varRefreshCmd": "print(var_dic_list())"
    },
    "r": {
     "delete_cmd_postfix": ") ",
     "delete_cmd_prefix": "rm(",
     "library": "var_list.r",
     "varRefreshCmd": "cat(var_dic_list()) "
    }
   },
   "types_to_exclude": [
    "module",
    "function",
    "builtin_function_or_method",
    "instance",
    "_Feature"
   ],
   "window_display": false
  }
 },
 "nbformat": 4,
 "nbformat_minor": 2
}
