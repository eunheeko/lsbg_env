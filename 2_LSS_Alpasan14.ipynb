{
 "cells": [
  {
   "cell_type": "code",
   "execution_count": 1,
   "metadata": {},
   "outputs": [],
   "source": [
    "import matplotlib.pyplot as plt\n",
    "import numpy as np\n",
    "\n",
    "from astropy.table import Table\n",
    "\n",
    "from astropy import units as u\n",
    "from astropy.coordinates import SkyCoord\n",
    "\n",
    "from astropy.cosmology import FlatLambdaCDM\n",
    "cosmo = FlatLambdaCDM(H0=70, Om0=0.3, Tcmb0=2.725)"
   ]
  },
  {
   "cell_type": "markdown",
   "metadata": {},
   "source": [
    "# Data"
   ]
  },
  {
   "cell_type": "markdown",
   "metadata": {},
   "source": [
    "### Group catalog from Yang+07"
   ]
  },
  {
   "cell_type": "code",
   "execution_count": 2,
   "metadata": {},
   "outputs": [],
   "source": [
    "grps = Table.read(\"./data/group_DR7/modelA_group\", format = 'ascii')\n",
    "\n",
    "grps['col1'].name = 'id'\n",
    "grps['col2'].name = 'RA'\n",
    "grps['col3'].name = 'dec'\n",
    "grps['col4'].name = 'z'\n",
    "grps['col5'].name = 'L'\n",
    "grps['col6'].name = 'sm'\n",
    "grps['col7'].name = 'hm1'\n",
    "grps['col8'].name = 'hm2'\n",
    "grps['col9'].name = 'mean_sep1'\n",
    "grps['col10'].name = 'mean_sep2'\n",
    "grps['col11'].name = 'f_edge'\n",
    "grps['col12'].name = 'ID1'\n",
    "grps['col13'].name = 'ID2'\n",
    "\n",
    "mask_m = (grps['hm1'] > np.log10(5e12))\n",
    "mask_z = (grps['z'] > 0.015) & (grps['z'] < 0.055)\n",
    "mask_coord = ((grps['RA'] < 70) | (grps['RA'] > 290)) & ((grps['dec'] < 5) & (grps['dec'] > -5))\n",
    "mask_grp = mask_m & mask_z & mask_coord\n",
    "\n",
    "grps = grps[mask_grp]"
   ]
  },
  {
   "cell_type": "code",
   "execution_count": 3,
   "metadata": {},
   "outputs": [
    {
     "data": {
      "text/plain": [
       "91"
      ]
     },
     "execution_count": 3,
     "metadata": {},
     "output_type": "execute_result"
    }
   ],
   "source": [
    "len(grps)"
   ]
  },
  {
   "cell_type": "code",
   "execution_count": 4,
   "metadata": {},
   "outputs": [],
   "source": [
    "ra_grp = grps['RA']\n",
    "dec_grp = grps['dec']\n",
    "zz_grp = grps['z']\n",
    "dist_grp = cosmo.comoving_distance(zz_grp).value # Mpc\n",
    "\n",
    "coords = SkyCoord(ra = ra_grp * u.degree, dec = dec_grp * u.degree, distance = dist_grp * u.Mpc)\n",
    "\n",
    "x_grp = coords.cartesian.x\n",
    "y_grp = coords.cartesian.y\n",
    "z_grp = coords.cartesian.z"
   ]
  },
  {
   "cell_type": "markdown",
   "metadata": {},
   "source": [
    "Halo mass to virial radius\n",
    "\n",
    "$$M_{200} = \\frac{100}{G} r^{3}_{200} H^{2}(t)$$"
   ]
  },
  {
   "cell_type": "code",
   "execution_count": 5,
   "metadata": {},
   "outputs": [],
   "source": [
    "Hs = cosmo.H(grps['z']).value\n",
    "h =  cosmo.H(0).value / 100\n",
    " \n",
    "G = 4.2e-3 * 1e-6 # Mpc M_sun-1 (km/s)^2\n",
    "\n",
    "r200 = (( 10**(grps['hm1']) * G / 100 / Hs**2 )**(1/3)).value #mpc"
   ]
  },
  {
   "cell_type": "markdown",
   "metadata": {},
   "source": [
    "### Galaxies from Bottrell+19"
   ]
  },
  {
   "cell_type": "code",
   "execution_count": 6,
   "metadata": {},
   "outputs": [
    {
     "name": "stderr",
     "output_type": "stream",
     "text": [
      "WARNING: VerifyWarning: Invalid keyword for column 85: ASCII table null option (TNULLn) is longer than the column's character width and will be truncated (got '255'). [astropy.io.fits.column]\n",
      "WARNING: VerifyWarning: Invalid keyword for column 130: ASCII table null option (TNULLn) is longer than the column's character width and will be truncated (got '255'). [astropy.io.fits.column]\n",
      "WARNING: VerifyWarning: Invalid keyword for column 147: ASCII table null option (TNULLn) is longer than the column's character width and will be truncated (got '-2147483648'). [astropy.io.fits.column]\n",
      "WARNING: VerifyWarning: Invalid keyword for column 148: ASCII table null option (TNULLn) is longer than the column's character width and will be truncated (got '-2147483648'). [astropy.io.fits.column]\n"
     ]
    }
   ],
   "source": [
    "cat = Table.read(\"./data/s82grfn.fit\")"
   ]
  },
  {
   "cell_type": "code",
   "execution_count": 7,
   "metadata": {},
   "outputs": [],
   "source": [
    "ra_gal = cat['RAJ2000'].value\n",
    "dec_gal = cat['DEJ2000'].value\n",
    "zz_gal = cat['z'].value\n",
    "\n",
    "dist_gal = cosmo.comoving_distance(zz_gal).value # Mpc\n",
    "\n",
    "coords_gal = SkyCoord(ra = ra_gal * u.degree, dec = dec_gal * u.degree, distance = dist_gal * u.Mpc)\n",
    "\n",
    "x_gal = coords_gal.cartesian.x\n",
    "y_gal = coords_gal.cartesian.y\n",
    "z_gal = coords_gal.cartesian.z"
   ]
  },
  {
   "cell_type": "markdown",
   "metadata": {},
   "source": [
    "# Comic Web Indentification"
   ]
  },
  {
   "cell_type": "code",
   "execution_count": 8,
   "metadata": {},
   "outputs": [],
   "source": [
    "# from scipy.sparse.csgraph import minimum_spanning_tree\n",
    "# from sklearn.neighbors import kneighbors_graph\n",
    "\n",
    "from utils.mistree import construct_mst, get_graph_degree, get_branch_index, get_branch_end_index"
   ]
  },
  {
   "cell_type": "code",
   "execution_count": 9,
   "metadata": {},
   "outputs": [],
   "source": [
    "k_neighbours=20\n",
    "number_of_nodes = len(x_grp)\n",
    "\n",
    "edge_length, edge_x, edge_y, edge_z, edge_index = construct_mst(x_grp, y_grp, z_grp, k_neighbours)\n",
    "degree, edge_degree = get_graph_degree(edge_index, number_of_nodes)\n",
    "branch_index, rejected_branch_index = get_branch_index(edge_index, edge_degree)\n",
    "\n",
    "\n",
    "# branch_length = [np.sum(edge_length[i]) for i in branch_index]\n",
    "# branch_length = np.array(branch_length)\n",
    "\n",
    "# branch_index_end = get_branch_end_index(edge_index, edge_degree, branch_index)\n",
    "# branch_index_end1, branch_index_end2 = branch_index_end[0], branch_index_end[1]\n",
    "\n",
    "# dx = abs(x_grp[branch_index_end1] - x_grp[branch_index_end2])\n",
    "# dy = abs(y_grp[branch_index_end1] - y_grp[branch_index_end2])\n",
    "# dz = abs(z_grp[branch_index_end1] - z_grp[branch_index_end2])\n",
    "# branch_end_length = np.sqrt((dx ** 2.) + (dy ** 2.) + (dz ** 2.))\n",
    "\n",
    "# branch_shape = branch_end_length/branch_length"
   ]
  },
  {
   "cell_type": "markdown",
   "metadata": {},
   "source": [
    "### 1. Cluster"
   ]
  },
  {
   "cell_type": "code",
   "execution_count": 10,
   "metadata": {},
   "outputs": [],
   "source": [
    "# from scipy import spatial\n",
    "# tree = spatial.cKDTree(np.array([x_grp, y_grp, z_grp]).T)\n",
    "\n",
    "# d_node_1 = tree.query(np.array([x_gal, y_gal, z_gal]).T, k = 1)\n",
    "\n",
    "# # cluster members if the distance to the nearest node is larger than R200 of it.\n",
    "# mask_cluster = (d_node_1[0] < r200[d_node_1[1]])\n",
    "\n",
    "# d_node = tree.query(np.array([x_gal, y_gal, z_gal]).T, k = 2)"
   ]
  },
  {
   "cell_type": "code",
   "execution_count": 10,
   "metadata": {},
   "outputs": [],
   "source": [
    "from scipy import spatial\n",
    "tree = spatial.cKDTree(np.array([x_grp, y_grp, z_grp]).T)\n",
    "\n",
    "d_node = tree.query(np.array([x_gal, y_gal, z_gal]).T, k = 2)"
   ]
  },
  {
   "cell_type": "code",
   "execution_count": 11,
   "metadata": {},
   "outputs": [],
   "source": [
    "matched_ids = Table.read('./data/galaxy_DR7/SDSS7_S82_matched_id.cat', format = 'ascii')\n",
    "\n",
    "mask_cluster = np.isin(cat['recno'], matched_ids['s82_recno'])"
   ]
  },
  {
   "cell_type": "code",
   "execution_count": 12,
   "metadata": {},
   "outputs": [
    {
     "data": {
      "text/plain": [
       "885"
      ]
     },
     "execution_count": 12,
     "metadata": {},
     "output_type": "execute_result"
    }
   ],
   "source": [
    "sum(mask_cluster)"
   ]
  },
  {
   "cell_type": "markdown",
   "metadata": {},
   "source": [
    "### 2. Filament"
   ]
  },
  {
   "cell_type": "code",
   "execution_count": 13,
   "metadata": {},
   "outputs": [],
   "source": [
    "mask_link = edge_length < 5.75 / h\n",
    "grp_index = np.where(mask_link)[0]\n",
    "\n",
    "mask_cand1 = np.isin(d_node[1][:, 0], grp_index)\n",
    "mask_cand2 = np.isin(d_node[1][:, 1], grp_index)\n",
    "mask_cand = mask_cand1 & mask_cand2"
   ]
  },
  {
   "cell_type": "code",
   "execution_count": 14,
   "metadata": {},
   "outputs": [],
   "source": [
    "P1 = np.array([x_grp[d_node[1][:, 0]], y_grp[d_node[1][:, 0]], z_grp[d_node[1][:, 0]]]).T\n",
    "P2 = np.array([x_grp[d_node[1][:, 1]], y_grp[d_node[1][:, 1]], z_grp[d_node[1][:, 1]]]).T\n",
    "\n",
    "Pgal = np.array([x_gal, y_gal, z_gal]).T"
   ]
  },
  {
   "cell_type": "code",
   "execution_count": 15,
   "metadata": {},
   "outputs": [],
   "source": [
    "d_fil = np.linalg.norm(\n",
    "    np.cross(P2 - Pgal, P1 - Pgal)\n",
    "    , axis = 1) / np.linalg.norm(P2 - P1, axis = 1) "
   ]
  },
  {
   "cell_type": "code",
   "execution_count": 16,
   "metadata": {},
   "outputs": [],
   "source": [
    "mask_filament = mask_cand & ~mask_cluster & (d_fil < 4.12 / 0.7)"
   ]
  },
  {
   "cell_type": "markdown",
   "metadata": {},
   "source": [
    "### 3. Tendrils"
   ]
  },
  {
   "cell_type": "code",
   "execution_count": 17,
   "metadata": {},
   "outputs": [],
   "source": [
    "k_neighbours=20\n",
    "number_of_nodes = len(x_grp)\n",
    "\n",
    "edge_length, edge_x, edge_y, edge_z, edge_index = construct_mst(x_grp, y_grp, z_grp, k_neighbours)\n",
    "degree, edge_degree = get_graph_degree(edge_index, number_of_nodes)\n",
    "branch_index, rejected_branch_index = get_branch_index(edge_index, edge_degree)\n",
    "\n",
    "\n",
    "k_neighbours=20\n",
    "mask_remain = (~mask_filament & ~mask_cluster).copy()\n",
    "number_of_nodes_t = len(x_gal[mask_remain])\n",
    "\n",
    "edge_length_t, edge_x_t, edge_y_t, edge_z_t, edge_index_t = construct_mst(x_gal[mask_remain], y_gal[mask_remain], z_gal[mask_remain], k_neighbours)\n",
    "degree_t, edge_degree_t = get_graph_degree(edge_index_t, number_of_nodes_t)\n",
    "branch_index_t, rejected_branch_index_t = get_branch_index(edge_index_t, edge_degree_t)\n",
    "\n",
    "# branch_length_t = [np.sum(edge_length_t[i]) for i in branch_index_t]\n",
    "# branch_length_t = np.array(branch_length_t)\n",
    "\n",
    "# branch_index_end_t = get_branch_end_index(edge_index_t, edge_degree_t, branch_index_t)\n",
    "# branch_index_end1_t, branch_index_end2_t = branch_index_end_t[0], branch_index_end_t[1]\n",
    "\n",
    "# dx_t = abs(x_gal[branch_index_end1_t] - x_gal[branch_index_end2_t])\n",
    "# dy_t = abs(y_gal[branch_index_end1_t] - y_gal[branch_index_end2_t])\n",
    "# dz_t = abs(z_gal[branch_index_end1_t] - z_gal[branch_index_end2_t])\n",
    "# branch_end_length_t = np.sqrt((dx_t ** 2.) + (dy_t ** 2.) + (dz_t ** 2.))\n",
    "\n",
    "# branch_shape_t = branch_end_length_t/branch_length_t"
   ]
  },
  {
   "cell_type": "code",
   "execution_count": 18,
   "metadata": {},
   "outputs": [],
   "source": [
    "mask_link_t = edge_length_t < 3.0 / 0.7 # flag for mask_remain\n",
    "mask_tendril = np.zeros(shape = len(mask_cluster), dtype = bool)\n",
    "\n",
    "mask_tendril[\n",
    "    np.where(mask_remain)[0][edge_index_t[0][mask_link_t]]\n",
    "] = True\n",
    "\n",
    "mask_tendril[\n",
    "    np.where(mask_remain)[0][edge_index_t[1][mask_link_t]]\n",
    "] = True\n",
    "\n",
    "mask_tendril[mask_cluster] = False\n",
    "mask_tendril[mask_filament] = False"
   ]
  },
  {
   "cell_type": "markdown",
   "metadata": {},
   "source": [
    "### 4. Void"
   ]
  },
  {
   "cell_type": "code",
   "execution_count": 19,
   "metadata": {},
   "outputs": [],
   "source": [
    "mask_void = ~mask_cluster & ~mask_filament & ~mask_tendril"
   ]
  },
  {
   "cell_type": "markdown",
   "metadata": {},
   "source": [
    "# Visualization"
   ]
  },
  {
   "cell_type": "code",
   "execution_count": 29,
   "metadata": {},
   "outputs": [
    {
     "data": {
      "image/png": "[encoded data removed]",
      "text/plain": [
       "<Figure size 576x432 with 1 Axes>"
      ]
     },
     "metadata": {
      "needs_background": "light"
     },
     "output_type": "display_data"
    }
   ],
   "source": [
    "fig, ax = plt.subplots(figsize = (8, 6), subplot_kw={'projection': 'polar'})\n",
    "\n",
    "# mask_link = edge_length < 5.75 / 0.7\n",
    "theta_grp = ra_grp * np.pi / 180\n",
    "ax.scatter(theta_grp, zz_grp, s = 10, zorder = 5, color = 'black', alpha = .5)\n",
    "theta_gal = ra_gal * np.pi / 180\n",
    "\n",
    "# ax.scatter(theta_gal, zz_gal, s = 1, label = 'all', color = 'gray')\n",
    "ax.scatter(theta_gal[mask_cluster], zz_gal[mask_cluster], s = 2, label = 'Cluster', zorder = 3, alpha = .3)\n",
    "ax.scatter(theta_gal[mask_filament], zz_gal[mask_filament], s = 1, label = 'Filament')\n",
    "ax.scatter(theta_gal[mask_tendril], zz_gal[mask_tendril], s = 1, label = 'Tendril', alpha = .6)\n",
    "ax.scatter(theta_gal[mask_void], zz_gal[mask_void], s = 1, label = 'Void')\n",
    "\n",
    "\n",
    "ax.set_thetalim(-np.pi/3, np.pi/3)\n",
    "ax.set_rlim(0, 0.055)\n",
    "\n",
    "# ax.set_ylabel('redshift', fontsize = 15)\n",
    "# ax.yaxis.set_label_position('right')\n",
    "# ax.set_xlabel('RA [deg]', fontsize = 15)\n",
    "\n",
    "# ax.legend(fontsize = 15)\n",
    "\n",
    "ax.set_theta_zero_location(\"N\")"
   ]
  },
  {
   "cell_type": "code",
   "execution_count": null,
   "metadata": {},
   "outputs": [],
   "source": []
  },
  {
   "cell_type": "markdown",
   "metadata": {},
   "source": [
    "# Density"
   ]
  },
  {
   "cell_type": "code",
   "execution_count": 21,
   "metadata": {},
   "outputs": [],
   "source": [
    "tree_gals = spatial.cKDTree(np.array([x_gal, y_gal, z_gal]).T)\n",
    "\n",
    "d_node_gals = tree.query(np.array([x_gal, y_gal, z_gal]).T, k = 3)"
   ]
  },
  {
   "cell_type": "code",
   "execution_count": 22,
   "metadata": {},
   "outputs": [],
   "source": [
    "sig3 = 3 * np.pi**(-1) * (d_node_gals[0][:, 2])**(-2)\n",
    "sig3 = np.log10(sig3)"
   ]
  },
  {
   "cell_type": "code",
   "execution_count": 23,
   "metadata": {},
   "outputs": [
    {
     "data": {
      "text/plain": [
       "Text(0, 0.5, 'Frequency')"
      ]
     },
     "execution_count": 23,
     "metadata": {},
     "output_type": "execute_result"
    },
    {
     "data": {
      "image/png": "[encoded data removed]",
      "text/plain": [
       "<Figure size 576x432 with 1 Axes>"
      ]
     },
     "metadata": {
      "needs_background": "light"
     },
     "output_type": "display_data"
    }
   ],
   "source": [
    "fig, ax = plt.subplots(figsize = (8, 6))\n",
    "# fig.subplots_adjust(hspace = 0)\n",
    "\n",
    "ax.hist(sig3[mask_cluster], color = 'darkorange', histtype = 'step', density = False, linewidth = 2, label = 'Group')\n",
    "ax.hist(sig3[mask_filament], color = 'red', histtype = 'step', density = False, linewidth = 2, label = 'Filament')\n",
    "ax.hist(sig3[mask_tendril], color = 'purple', histtype = 'step', density = False, linewidth = 2, label = 'Tendril')\n",
    "ax.hist(sig3[mask_void], color = 'darkblue', histtype = 'step', density = False, linewidth = 2, label = 'Void')\n",
    "\n",
    "ax.legend(fontsize = 15)\n",
    "\n",
    "ax.set_xlabel(r'$\\Sigma_{3}$ $[log(Mpc^{2})]$', fontsize = 15)\n",
    "ax.set_ylabel('Frequency', fontsize = 15)"
   ]
  },
  {
   "cell_type": "code",
   "execution_count": 24,
   "metadata": {
    "code_folding": [
     0
    ]
   },
   "outputs": [],
   "source": [
    "# theta_grp = ra_grp * np.pi / 180\n",
    "\n",
    "# fig, ax = plt.subplots(subplot_kw={'projection': 'polar'})\n",
    "\n",
    "# # mask_link = edge_length < 5.75 / 0.7\n",
    "# mask_link = edge_length < 15 / 0.7\n",
    "\n",
    "# ax.scatter(theta_grp, zz_grp, s = 10, zorder = 2, color = 'r')\n",
    "\n",
    "# ax.plot([theta_grp[edge_index[0][mask_link]], theta_grp[edge_index[1][mask_link]]],\n",
    "#         [zz_grp[edge_index[0][mask_link]], zz_grp[edge_index[1][mask_link]]],\n",
    "#          color = 'k' )\n",
    "\n",
    "# ax.set_thetalim(-np.pi/3, np.pi/3)\n",
    "\n",
    "# ax.set_xlabel('redshift', fontsize = 15)\n",
    "# ax.set_ylabel('RA [deg]', fontsize = 15)\n",
    "\n",
    "# # fig.savefig('result.png')"
   ]
  },
  {
   "cell_type": "code",
   "execution_count": null,
   "metadata": {},
   "outputs": [],
   "source": []
  },
  {
   "cell_type": "code",
   "execution_count": null,
   "metadata": {},
   "outputs": [],
   "source": []
  },
  {
   "cell_type": "code",
   "execution_count": null,
   "metadata": {},
   "outputs": [],
   "source": []
  }
 ],
 "metadata": {
  "kernelspec": {
   "display_name": "Python 3",
   "language": "python",
   "name": "python3"
  },
  "language_info": {
   "codemirror_mode": {
    "name": "ipython",
    "version": 3
   },
   "file_extension": ".py",
   "mimetype": "text/x-python",
   "name": "python",
   "nbconvert_exporter": "python",
   "pygments_lexer": "ipython3",
   "version": "3.7.10"
  },
  "varInspector": {
   "cols": {
    "lenName": 16,
    "lenType": 16,
    "lenVar": 40
   },
   "kernels_config": {
    "python": {
     "delete_cmd_postfix": "",
     "delete_cmd_prefix": "del ",
     "library": "var_list.py",
     "varRefreshCmd": "print(var_dic_list())"
    },
    "r": {
     "delete_cmd_postfix": ") ",
     "delete_cmd_prefix": "rm(",
     "library": "var_list.r",
     "varRefreshCmd": "cat(var_dic_list()) "
    }
   },
   "types_to_exclude": [
    "module",
    "function",
    "builtin_function_or_method",
    "instance",
    "_Feature"
   ],
   "window_display": false
  }
 },
 "nbformat": 4,
 "nbformat_minor": 2
}
