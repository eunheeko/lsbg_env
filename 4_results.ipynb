{
 "cells": [
  {
   "cell_type": "code",
   "execution_count": 2,
   "metadata": {},
   "outputs": [],
   "source": [
    "import os\n",
    "\n",
    "import matplotlib.pyplot as plt\n",
    "\n",
    "from astropy.table import Table\n",
    "from astropy.io import ascii\n",
    "\n",
    "from astropy import units as u\n",
    "from astropy.coordinates import SkyCoord\n",
    "\n",
    "from astropy.cosmology import FlatLambdaCDM\n",
    "cosmo = FlatLambdaCDM(H0=70, Om0=0.3, Tcmb0=2.725)\n",
    "\n",
    "from scipy import ndimage\n",
    "\n",
    "import numpy as np"
   ]
  },
  {
   "cell_type": "code",
   "execution_count": 3,
   "metadata": {},
   "outputs": [
    {
     "name": "stderr",
     "output_type": "stream",
     "text": [
      "WARNING: VerifyWarning: Invalid keyword for column 87: ASCII table null option (TNULLn) is longer than the column's character width and will be truncated (got '255'). [astropy.io.fits.column]\n",
      "WARNING: VerifyWarning: Invalid keyword for column 132: ASCII table null option (TNULLn) is longer than the column's character width and will be truncated (got '255'). [astropy.io.fits.column]\n",
      "WARNING: VerifyWarning: Invalid keyword for column 148: ASCII table null option (TNULLn) is longer than the column's character width and will be truncated (got '-2147483648'). [astropy.io.fits.column]\n",
      "WARNING: VerifyWarning: Invalid keyword for column 149: ASCII table null option (TNULLn) is longer than the column's character width and will be truncated (got '-2147483648'). [astropy.io.fits.column]\n"
     ]
    }
   ],
   "source": [
    "cat = Table.read(\"./data/s82grn4.fit\")\n",
    "\n",
    "ra_gal = cat['RAJ2000'].value\n",
    "dec_gal = cat['DEJ2000'].value\n",
    "zz_gal = cat['z'].value\n",
    "\n",
    "dist_gal = cosmo.comoving_distance(zz_gal).value # Mpc\n",
    "\n",
    "coords_gal = SkyCoord(ra = ra_gal * u.degree, dec = dec_gal * u.degree, distance = dist_gal * u.Mpc)\n",
    "\n",
    "x_gal = coords_gal.cartesian.x\n",
    "y_gal = coords_gal.cartesian.y\n",
    "z_gal = coords_gal.cartesian.z"
   ]
  },
  {
   "cell_type": "code",
   "execution_count": 4,
   "metadata": {},
   "outputs": [],
   "source": [
    "from utils.decomposition import bulge, disk"
   ]
  },
  {
   "cell_type": "code",
   "execution_count": 5,
   "metadata": {},
   "outputs": [
    {
     "name": "stderr",
     "output_type": "stream",
     "text": [
      "/home/ehko/anaconda3/lib/python3.7/site-packages/ipykernel_launcher.py:34: RuntimeWarning: divide by zero encountered in log10\n",
      "/home/ehko/anaconda3/lib/python3.7/site-packages/ipykernel_launcher.py:14: RuntimeWarning: divide by zero encountered in double_scalars\n",
      "  \n",
      "/home/ehko/anaconda3/lib/python3.7/site-packages/ipykernel_launcher.py:30: RuntimeWarning: invalid value encountered in multiply\n",
      "/home/ehko/anaconda3/lib/python3.7/site-packages/ipykernel_launcher.py:33: RuntimeWarning: divide by zero encountered in log10\n"
     ]
    }
   ],
   "source": [
    "#arcsec\n",
    "radii = np.arange(0.01, 20, 0.01) \n",
    "\n",
    "# calculate surface-brightness at r = 0\n",
    "mu0_n4 = []\n",
    "\n",
    "for idx in range(len(cat)):\n",
    "    # bulge to total ratio\n",
    "    btt = cat['B_Tr'][idx]\n",
    "\n",
    "    #flux per area\n",
    "    flux_bulge_arb = bulge(r = radii, Sig_e = 10, r_e = cat['hlrr'][idx], n = cat['n'][idx])\n",
    "    flux_disk_arb = disk(r = radii, Sig_0 = 10, r_d = cat['hlrr'][idx])\n",
    "    flux_disk_arb *= sum(flux_bulge_arb)/sum(flux_disk_arb) * (1 - btt) / btt\n",
    "\n",
    "    petro_r50 = cat['R50g'][idx]\n",
    "    petro_r50_idx = int(petro_r50 // 0.01)\n",
    "\n",
    "    #flux within r50 to SB\n",
    "    flux_bulge_arb_r50 = flux_bulge_arb[:petro_r50_idx]\n",
    "    flux_disk_arb_r50 = flux_disk_arb[:petro_r50_idx]\n",
    "    flux_total_arb_r50 = flux_bulge_arb_r50 + flux_disk_arb_r50\n",
    "\n",
    "    flux_avg_r50 = [flux_total_arb_r50[ii] * 2 * np.pi * 0.01**2 * (ii+1) for ii in range(len(flux_total_arb_r50))] \n",
    "    flux_avg_r50 = np.sum(flux_avg_r50) / (np.pi * petro_r50**2)\n",
    "\n",
    "    # SB in R50 catalog / smae derived\n",
    "    factor = 10**((cat['mu50g'][idx] - 30) / -2.5) / flux_avg_r50\n",
    "    flux_bulge_corr = flux_bulge_arb * factor * btt\n",
    "    flux_disk_corr = flux_disk_arb * factor * (1 - btt)\n",
    "    flux_total = flux_bulge_corr + flux_disk_corr\n",
    "    # flux_corr = 10**((sb_arb - 30) / -2.5) * factor\n",
    "    sb_bulge_corr = -2.5 * np.log10(flux_bulge_corr) + 30\n",
    "    sb_disk_corr = -2.5 * np.log10(flux_disk_corr) + 30\n",
    "    sb_total = -2.5 * np.log10(flux_total) + 30\n",
    "    \n",
    "    mu0 = sb_disk_corr[0]\n",
    "    mu0_n4.append(mu0)\n",
    "\n",
    "mu0_n4 = np.array(mu0_n4)"
   ]
  },
  {
   "cell_type": "code",
   "execution_count": 18,
   "metadata": {},
   "outputs": [
    {
     "data": {
      "text/plain": [
       "(460, 2339)"
      ]
     },
     "execution_count": 18,
     "metadata": {},
     "output_type": "execute_result"
    }
   ],
   "source": [
    "z_mask = (cat['z'] > 0.015) & (cat['z'] < 0.055)\n",
    "sf_mask = mu0_n4 > 23\n",
    "inc_mask = (cat['inc'] <= 75) & (cat['inc'] >= 0)\n",
    "# sersic_mask = (tbl_n4[])\n",
    "\n",
    "lsb_mask = sf_mask & inc_mask & z_mask\n",
    "hsb_mask = ~sf_mask & inc_mask & z_mask\n",
    "\n",
    "sum(lsb_mask), sum(hsb_mask)"
   ]
  },
  {
   "cell_type": "code",
   "execution_count": 7,
   "metadata": {},
   "outputs": [],
   "source": [
    "from utils.mistree import construct_mst, get_graph_degree, get_branch_index, get_branch_end_index"
   ]
  },
  {
   "cell_type": "code",
   "execution_count": 8,
   "metadata": {},
   "outputs": [],
   "source": [
    "grps = Table.read(\"./data/group_DR7/modelA_group\", format = 'ascii')\n",
    "\n",
    "grps['col1'].name = 'id'\n",
    "grps['col2'].name = 'RA'\n",
    "grps['col3'].name = 'dec'\n",
    "grps['col4'].name = 'z'\n",
    "grps['col5'].name = 'L'\n",
    "grps['col6'].name = 'sm'\n",
    "grps['col7'].name = 'hm1'\n",
    "grps['col8'].name = 'hm2'\n",
    "grps['col9'].name = 'mean_sep1'\n",
    "grps['col10'].name = 'mean_sep2'\n",
    "grps['col11'].name = 'f_edge'\n",
    "grps['col12'].name = 'ID1'\n",
    "grps['col13'].name = 'ID2'\n",
    "\n",
    "mask_m = (grps['hm1'] > np.log10(2e12))\n",
    "mask_z = (grps['z'] > 0.015) & (grps['z'] < 0.055)\n",
    "mask_coord = ((grps['RA'] < 70) | (grps['RA'] > 290)) & ((grps['dec'] < 5) & (grps['dec'] > -5))\n",
    "mask_grp = mask_m & mask_z & mask_coord\n",
    "\n",
    "grps = grps[mask_grp]\n"
   ]
  },
  {
   "cell_type": "code",
   "execution_count": 9,
   "metadata": {},
   "outputs": [],
   "source": [
    "ra_grp = grps['RA']\n",
    "dec_grp = grps['dec']\n",
    "zz_grp = grps['z']\n",
    "dist_grp = cosmo.comoving_distance(zz_grp).value # Mpc\n",
    "\n",
    "coords = SkyCoord(ra = ra_grp * u.degree, dec = dec_grp * u.degree, distance = dist_grp * u.Mpc)\n",
    "\n",
    "x_grp = coords.cartesian.x\n",
    "y_grp = coords.cartesian.y\n",
    "z_grp = coords.cartesian.z"
   ]
  },
  {
   "cell_type": "code",
   "execution_count": 10,
   "metadata": {},
   "outputs": [],
   "source": [
    "Hs = cosmo.H(grps['z']).value\n",
    "h =  cosmo.H(0).value / 100\n",
    " \n",
    "G = 4.2e-3 * 1e-6 # Mpc M_sun-1 (km/s)^2\n",
    "\n",
    "r200 = (( 10**(grps['hm1']) * G / 100 / Hs**2 )**(1/3)).value #mpc"
   ]
  },
  {
   "cell_type": "code",
   "execution_count": 11,
   "metadata": {},
   "outputs": [],
   "source": [
    "k_neighbours=20\n",
    "number_of_nodes = len(x_grp)\n",
    "\n",
    "edge_length, edge_x, edge_y, edge_z, edge_index = construct_mst(x_grp, y_grp, z_grp, k_neighbours)\n",
    "degree, edge_degree = get_graph_degree(edge_index, number_of_nodes)\n",
    "branch_index, rejected_branch_index = get_branch_index(edge_index, edge_degree)"
   ]
  },
  {
   "cell_type": "code",
   "execution_count": 12,
   "metadata": {},
   "outputs": [],
   "source": [
    "from scipy import spatial"
   ]
  },
  {
   "cell_type": "code",
   "execution_count": 13,
   "metadata": {},
   "outputs": [],
   "source": [
    "tree = spatial.cKDTree(np.array([x_grp, y_grp, z_grp]).T)\n",
    "\n",
    "d_node_1 = tree.query(np.array([x_gal, y_gal, z_gal]).T, k = 1)\n",
    "\n",
    "mask_cluster = (d_node_1[0] < r200[d_node_1[1]])\n",
    "d_node = tree.query(np.array([x_gal, y_gal, z_gal]).T, k = 2)"
   ]
  },
  {
   "cell_type": "code",
   "execution_count": 14,
   "metadata": {},
   "outputs": [],
   "source": [
    "mask_link = edge_length < 5.75 / h\n",
    "grp_index = np.where(mask_link)[0]\n",
    "\n",
    "mask_cand1 = np.isin(d_node[1][:, 0], grp_index)\n",
    "mask_cand2 = np.isin(d_node[1][:, 1], grp_index)\n",
    "mask_cand = mask_cand1 & mask_cand2\n",
    "\n",
    "P1 = np.array([x_grp[d_node[1][:, 0]], y_grp[d_node[1][:, 0]], z_grp[d_node[1][:, 0]]]).T\n",
    "P2 = np.array([x_grp[d_node[1][:, 1]], y_grp[d_node[1][:, 1]], z_grp[d_node[1][:, 1]]]).T\n",
    "\n",
    "Pgal = np.array([x_gal, y_gal, z_gal]).T\n",
    "\n",
    "d_fil = np.linalg.norm(\n",
    "    np.cross(P2 - Pgal, P1 - Pgal)\n",
    "    , axis = 1) / np.linalg.norm(P2 - P1, axis = 1)\n",
    "\n",
    "mask_filament = mask_cand & ~mask_cluster & (d_fil < 4.12 / 0.7)"
   ]
  },
  {
   "cell_type": "code",
   "execution_count": 15,
   "metadata": {},
   "outputs": [
    {
     "data": {
      "text/plain": [
       "(33, 200)"
      ]
     },
     "execution_count": 15,
     "metadata": {},
     "output_type": "execute_result"
    }
   ],
   "source": [
    "sum(lsb_mask & mask_cluster), sum(lsb_mask & mask_filament)"
   ]
  },
  {
   "cell_type": "code",
   "execution_count": 16,
   "metadata": {},
   "outputs": [
    {
     "data": {
      "text/plain": [
       "(153, 993)"
      ]
     },
     "execution_count": 16,
     "metadata": {},
     "output_type": "execute_result"
    }
   ],
   "source": [
    "sum(hsb_mask & mask_cluster), sum(hsb_mask & mask_filament)"
   ]
  },
  {
   "cell_type": "code",
   "execution_count": 20,
   "metadata": {},
   "outputs": [
    {
     "data": {
      "text/plain": [
       "Text(0, 0.5, 'Density')"
      ]
     },
     "execution_count": 20,
     "metadata": {},
     "output_type": "execute_result"
    },
    {
     "data": {
      "image/png": "[encoded data removed]",
      "text/plain": [
       "<Figure size 576x432 with 1 Axes>"
      ]
     },
     "metadata": {
      "needs_background": "light"
     },
     "output_type": "display_data"
    }
   ],
   "source": [
    "fig, ax = plt.subplots(figsize = (8, 6))\n",
    "\n",
    "mlsb = lsb_mask & mask_filament\n",
    "mhsb = hsb_mask & mask_filament\n",
    "ax.hist(d_fil[mlsb], alpha = .3, weights = np.ones(sum(mlsb))/sum(mlsb), label = 'LSBG', bins = np.arange(0, 5, 0.1), cumulative = True)\n",
    "ax.hist(d_fil[mhsb], alpha = .3, weights = np.ones(sum(mhsb))/sum(mhsb), label = 'HSBG', bins = np.arange(0, 5, 0.1), cumulative = True)\n",
    "\n",
    "ax.legend(fontsize = 15)\n",
    "# ax.hist(d_fil[mhsb], alpha = .3)\n",
    "\n",
    "ax.set_xlabel('$d_{fil}$ [Mpc]', fontsize = 15)\n",
    "ax.set_ylabel('Density', fontsize = 15)\n",
    "# fig.savefig('hist.png')"
   ]
  },
  {
   "cell_type": "code",
   "execution_count": null,
   "metadata": {},
   "outputs": [],
   "source": []
  },
  {
   "cell_type": "code",
   "execution_count": null,
   "metadata": {},
   "outputs": [],
   "source": []
  },
  {
   "cell_type": "code",
   "execution_count": null,
   "metadata": {},
   "outputs": [],
   "source": []
  }
 ],
 "metadata": {
  "kernelspec": {
   "display_name": "Python 3",
   "language": "python",
   "name": "python3"
  },
  "language_info": {
   "codemirror_mode": {
    "name": "ipython",
    "version": 3
   },
   "file_extension": ".py",
   "mimetype": "text/x-python",
   "name": "python",
   "nbconvert_exporter": "python",
   "pygments_lexer": "ipython3",
   "version": "3.7.10"
  },
  "orig_nbformat": 4
 },
 "nbformat": 4,
 "nbformat_minor": 2
}
