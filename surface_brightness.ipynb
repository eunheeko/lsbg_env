{
 "cells": [
  {
   "cell_type": "code",
   "execution_count": 1,
   "id": "statutory-gossip",
   "metadata": {},
   "outputs": [],
   "source": [
    "import os\n",
    "\n",
    "import matplotlib.pyplot as plt\n",
    "\n",
    "from astropy.table import Table"
   ]
  },
  {
   "cell_type": "markdown",
   "id": "expanded-ethics",
   "metadata": {},
   "source": [
    "Definition of LSBG\n",
    "\n",
    "- Freeman 1970: \n",
    "    - central surface brightness - $\\mu_{B, 0}$ > 22.7 mag $arcsec^{-2}$ \n",
    "- McGaugh et al. 2001    \n",
    "    - central maximum stellar surface densities - $\\Sigma_{*, 0}$ < 100 $M_{\\odot}$ $pc^{-2}$"
   ]
  },
  {
   "cell_type": "markdown",
   "id": "integral-alliance",
   "metadata": {},
   "source": [
    "Things to check\n",
    "\n",
    "- redshift range\n",
    "- volume limited(preferred) vs. magnitude limited\n",
    "- surface brightness distribution as a function of redshift\n",
    "- comepleteness?\n",
    "- How to convert sdss filter sets into UBVRI\n",
    "- inclination"
   ]
  },
  {
   "cell_type": "markdown",
   "id": "overall-thirty",
   "metadata": {},
   "source": [
    "magnitude conversion\n",
    "- https://arxiv.org/pdf/1007.4014.pdf\n",
    "- https://arxiv.org/pdf/1811.04569.pdf\n",
    "- Kim & Lee 2013, How Does the Surface Density and Size of Disk Galaxies Measured in Hydrodynamic Simulations Correlate with the Halo SpinParameter?"
   ]
  },
  {
   "cell_type": "markdown",
   "id": "focused-beaver",
   "metadata": {},
   "source": [
    "### bulge\n",
    "- Sersic profile:\n",
    "    - $\\Sigma(r) = \\Sigma_{e}\\exp{(-k((\\frac{r}{r_{e}})^{\\frac{1}{n}} - 1))}$, surface brightness at radius r\n",
    "    - $k = 1.9992n - 0.3271$\n",
    "    \n",
    "- de Vaucoulers profile:\n",
    "    - $n = 4$ \n",
    "    - bulge of late-type spiral (n = 1), bright ellipticals / bulge of early-type spiral (n = 4)\n",
    "    \n",
    "### disk\n",
    "- exponential profile:\n",
    "    - $\\Sigma(r) = \\Sigma_{0}\\exp{(-\\frac{r}{r_{d}})}$\n",
    "    - $\\Sigma_{0} = central surface brightness$, $r_{d} = disc scale length$"
   ]
  },
  {
   "cell_type": "code",
   "execution_count": 2,
   "id": "chinese-establishment",
   "metadata": {
    "scrolled": true
   },
   "outputs": [
    {
     "data": {
      "text/plain": [
       "['sdss_s82_morph_gr_ps.txt',\n",
       " 'sdss_s82_morph_zr_fn.txt',\n",
       " 'sdss_s82_morph_zr_ps.txt',\n",
       " '__MACOSX',\n",
       " 'sdss_s82_morph_gr_fn.txt',\n",
       " 'sdss_s82_morph_gr_n4.txt',\n",
       " 'sdss_s82_morph_zr_n4.txt',\n",
       " 'sdss_s82_morph_ir_ps.txt',\n",
       " 'sdss_s82_morph_ur_ps.txt',\n",
       " 'sdss_s82_morph_ir_fn.txt',\n",
       " 'sdss_s82_morph_ur_fn.txt',\n",
       " 'sdss_s82_morph_ur_n4.txt',\n",
       " 'sdss_s82_morph_ir_n4.txt']"
      ]
     },
     "execution_count": 2,
     "metadata": {},
     "output_type": "execute_result"
    }
   ],
   "source": [
    "os.listdir('./bottrell/stz855_supplemental_files/Stripe82_DeepMorphologies_TXT')"
   ]
  },
  {
   "cell_type": "code",
   "execution_count": 3,
   "id": "introductory-binding",
   "metadata": {},
   "outputs": [],
   "source": [
    "path = './bottrell/stz855_supplemental_files/Stripe82_DeepMorphologies_TXT/'"
   ]
  },
  {
   "cell_type": "markdown",
   "id": "egyptian-chicken",
   "metadata": {},
   "source": [
    "- (ps) single-component Sersic profile\n",
    "- (n4) two-component nb = 4 bulge and exponential disc\n",
    "- (fn) two-component free-nb bulge and exponential disc"
   ]
  },
  {
   "cell_type": "code",
   "execution_count": 8,
   "id": "built-palestinian",
   "metadata": {},
   "outputs": [],
   "source": [
    "tbl_fn = Table.read(path + 'sdss_s82_morph_gr_fn.txt', format = 'ascii')\n",
    "tbl_ps = Table.read(path + 'sdss_s82_morph_gr_ps.txt', format = 'ascii')\n",
    "tbl_n4 = Table.read(path + 'sdss_s82_morph_gr_n4.txt', format = 'ascii')"
   ]
  },
  {
   "cell_type": "code",
   "execution_count": 9,
   "id": "beautiful-haven",
   "metadata": {},
   "outputs": [
    {
     "data": {
      "text/plain": [
       "['objID',\n",
       " 'dr7_objID',\n",
       " 'ra',\n",
       " 'decl',\n",
       " 'run',\n",
       " 'rerun',\n",
       " 'camcol',\n",
       " 'field',\n",
       " 'ID',\n",
       " 'petroMag_r',\n",
       " 'extinction_r',\n",
       " 'z',\n",
       " 'sciim_nx',\n",
       " 'sciim_ny',\n",
       " 'prchost',\n",
       " 'start_time',\n",
       " 'end_time',\n",
       " 'dfm_r',\n",
       " 'f_r',\n",
       " 'dfp_r',\n",
       " 'dg2dmagm_r',\n",
       " 'g2dmag_r',\n",
       " 'dg2dmagp_r',\n",
       " 'dbtm_r',\n",
       " 'bt_r',\n",
       " 'dbtp_r',\n",
       " 'drem',\n",
       " 're',\n",
       " 'drep',\n",
       " 'dem',\n",
       " 'e',\n",
       " 'dep',\n",
       " 'dphibm',\n",
       " 'phib',\n",
       " 'dphibp',\n",
       " 'drdm',\n",
       " 'rd',\n",
       " 'drdp',\n",
       " 'didm',\n",
       " 'incd',\n",
       " 'didp',\n",
       " 'dphidm',\n",
       " 'phid',\n",
       " 'dphidp',\n",
       " 'ddxm_g',\n",
       " 'dx_g',\n",
       " 'ddxp_g',\n",
       " 'ddym_g',\n",
       " 'dy_g',\n",
       " 'ddyp_g',\n",
       " 'ddbm_r',\n",
       " 'db_r',\n",
       " 'ddbp_r',\n",
       " 'dnm',\n",
       " 'n',\n",
       " 'dnp',\n",
       " 'rhalf_r',\n",
       " 'rchi2_r',\n",
       " 'c1_r',\n",
       " 'c2_r',\n",
       " 'c3_r',\n",
       " 'c4_r',\n",
       " 'a_r',\n",
       " 'da_r',\n",
       " 'az2_1_r',\n",
       " 'az2_2_r',\n",
       " 'az3_1_r',\n",
       " 'az3_2_r',\n",
       " 'az5_1_r',\n",
       " 'az5_2_r',\n",
       " 'dz_r',\n",
       " 'rt1_1_r',\n",
       " 'rt1_2_r',\n",
       " 'rt1_3_r',\n",
       " 'ra1_1_r',\n",
       " 'ra1_2_r',\n",
       " 'ra1_3_r',\n",
       " 'prcflag',\n",
       " 'rd_kpc',\n",
       " 're_kpc',\n",
       " 'rhalf_kpc_r',\n",
       " 'petroR50_r',\n",
       " 'mu50_r',\n",
       " 'Vmax',\n",
       " 'Mr_galaxy',\n",
       " 'Mr_bulge',\n",
       " 'Mr_disk',\n",
       " 'Mg_galaxy',\n",
       " 'Mg_bulge',\n",
       " 'Mg_disk',\n",
       " 'extinction_g',\n",
       " 'petroMag_g',\n",
       " 'dfm_g',\n",
       " 'f_g',\n",
       " 'dfp_g',\n",
       " 'dbtm_g',\n",
       " 'bt_g',\n",
       " 'dbtp_g',\n",
       " 'dg2dmagm_g',\n",
       " 'g2dmag_g',\n",
       " 'dg2dmagp_g',\n",
       " 'rhalf_g',\n",
       " 'rhalf_kpc_g',\n",
       " 'rchi2_g',\n",
       " 'ddbm_g',\n",
       " 'db_g',\n",
       " 'ddbp_g',\n",
       " 'c1_g',\n",
       " 'c2_g',\n",
       " 'c3_g',\n",
       " 'c4_g',\n",
       " 'petroR50_g',\n",
       " 'mu50_g',\n",
       " 'a_g',\n",
       " 'da_g',\n",
       " 'az2_1_g',\n",
       " 'az2_2_g',\n",
       " 'az3_1_g',\n",
       " 'az3_2_g',\n",
       " 'az5_1_g',\n",
       " 'az5_2_g',\n",
       " 'dz_g',\n",
       " 'rt1_1_g',\n",
       " 'rt1_2_g',\n",
       " 'rt1_3_g',\n",
       " 'ra1_1_g',\n",
       " 'ra1_2_g',\n",
       " 'ra1_3_g',\n",
       " 'specclass',\n",
       " 'ddxm_r',\n",
       " 'dx_r',\n",
       " 'ddxp_r',\n",
       " 'ddym_r',\n",
       " 'dy_r',\n",
       " 'ddyp_r',\n",
       " 'crhalf_g',\n",
       " 'crhalf_r',\n",
       " 'npxfit0',\n",
       " 'npxfit1',\n",
       " 'skySigNorm_r',\n",
       " 'skySigNorm_g',\n",
       " 'sky_r',\n",
       " 'sky_g',\n",
       " 'skyNpix_g',\n",
       " 'skyNpix_r']"
      ]
     },
     "execution_count": 9,
     "metadata": {},
     "output_type": "execute_result"
    }
   ],
   "source": [
    "tbl_ps.keys()"
   ]
  },
  {
   "cell_type": "code",
   "execution_count": 19,
   "id": "spoken-opportunity",
   "metadata": {},
   "outputs": [],
   "source": [
    "# tbl_ps['mu50_g']"
   ]
  },
  {
   "cell_type": "code",
   "execution_count": null,
   "id": "suited-batman",
   "metadata": {},
   "outputs": [],
   "source": [
    "tbl_ps['n'] #sersic index\n",
    "tbl_ps['re'] # bulge effective radius [arcsec]\n",
    "\n",
    "\n",
    "radii = np.range(0, 25, 0.1) \n",
    "\n",
    "plt.plot(radii, )"
   ]
  },
  {
   "cell_type": "code",
   "execution_count": 20,
   "id": "molecular-tomato",
   "metadata": {
    "scrolled": true
   },
   "outputs": [
    {
     "data": {
      "text/html": [
       "&lt;Column name=&apos;f_r&apos; dtype=&apos;float64&apos; length=16892&gt;\n",
       "<table>\n",
       "<tr><td>1901330.0</td></tr>\n",
       "<tr><td>636981.0</td></tr>\n",
       "<tr><td>396374.0</td></tr>\n",
       "<tr><td>170367.0</td></tr>\n",
       "<tr><td>1792140.0</td></tr>\n",
       "<tr><td>220124.0</td></tr>\n",
       "<tr><td>156596.0</td></tr>\n",
       "<tr><td>192498.0</td></tr>\n",
       "<tr><td>199432.0</td></tr>\n",
       "<tr><td>469592.0</td></tr>\n",
       "<tr><td>282664.0</td></tr>\n",
       "<tr><td>192525.0</td></tr>\n",
       "<tr><td>...</td></tr>\n",
       "<tr><td>110613.0</td></tr>\n",
       "<tr><td>218438.0</td></tr>\n",
       "<tr><td>155670.0</td></tr>\n",
       "<tr><td>99162.9</td></tr>\n",
       "<tr><td>1598820.0</td></tr>\n",
       "<tr><td>780361.0</td></tr>\n",
       "<tr><td>399515.0</td></tr>\n",
       "<tr><td>145729.0</td></tr>\n",
       "<tr><td>153529.0</td></tr>\n",
       "<tr><td>718527.0</td></tr>\n",
       "<tr><td>138187.0</td></tr>\n",
       "<tr><td>654572.0</td></tr>\n",
       "</table>"
      ],
      "text/plain": [
       "<Column name='f_r' dtype='float64' length=16892>\n",
       "1901330.0\n",
       " 636981.0\n",
       " 396374.0\n",
       " 170367.0\n",
       "1792140.0\n",
       " 220124.0\n",
       " 156596.0\n",
       " 192498.0\n",
       " 199432.0\n",
       " 469592.0\n",
       " 282664.0\n",
       " 192525.0\n",
       "      ...\n",
       " 110613.0\n",
       " 218438.0\n",
       " 155670.0\n",
       "  99162.9\n",
       "1598820.0\n",
       " 780361.0\n",
       " 399515.0\n",
       " 145729.0\n",
       " 153529.0\n",
       " 718527.0\n",
       " 138187.0\n",
       " 654572.0"
      ]
     },
     "execution_count": 20,
     "metadata": {},
     "output_type": "execute_result"
    }
   ],
   "source": [
    "tbl_ps['f_r']"
   ]
  },
  {
   "cell_type": "code",
   "execution_count": 82,
   "id": "median-advertising",
   "metadata": {
    "scrolled": true
   },
   "outputs": [
    {
     "data": {
      "image/png": "[encoded data removed]",
      "text/plain": [
       "<Figure size 432x288 with 1 Axes>"
      ]
     },
     "metadata": {
      "needs_background": "light"
     },
     "output_type": "display_data"
    }
   ],
   "source": [
    "plt.scatter(tbl['ra'], tbl['decl'], s = 1)\n",
    "\n",
    "plt.xlabel('RA')\n",
    "plt.ylabel('DEC')\n",
    "\n",
    "plt.savefig('./figs/target_distribution.png')"
   ]
  },
  {
   "cell_type": "code",
   "execution_count": 83,
   "id": "soviet-apartment",
   "metadata": {},
   "outputs": [
    {
     "data": {
      "image/png": "[encoded data removed]",
      "text/plain": [
       "<Figure size 432x288 with 1 Axes>"
      ]
     },
     "metadata": {
      "needs_background": "light"
     },
     "output_type": "display_data"
    }
   ],
   "source": [
    "plt.hist(tbl[tbl['z'] > 0]['z'], bins  = np.arange(0, 0.32, 0.02), edgecolor = 'black')\n",
    "\n",
    "plt.xlabel('redshift')\n",
    "plt.ylabel('count')\n",
    "\n",
    "plt.savefig('./figs/z_distribution.png')"
   ]
  },
  {
   "cell_type": "code",
   "execution_count": 86,
   "id": "industrial-spare",
   "metadata": {},
   "outputs": [
    {
     "data": {
      "image/png": "[encoded data removed]",
      "text/plain": [
       "<Figure size 720x288 with 2 Axes>"
      ]
     },
     "metadata": {
      "needs_background": "light"
     },
     "output_type": "display_data"
    }
   ],
   "source": [
    "fig, ax = plt.subplots(1, 2, figsize = (10, 4))\n",
    "\n",
    "ax[0].hist(np.array(tbl['mu50_r']), edgecolor = 'black', bins = np.arange(17, 25, 0.5))\n",
    "ax[0].set_xlabel('avg surface brightness in R50')\n",
    "ax[0].set_title('r band')\n",
    "\n",
    "ax[1].hist(np.array(tbl['mu50_g']), edgecolor = 'black', bins = np.arange(18, 26, 0.5))\n",
    "ax[1].set_xlabel('avg surface brightness in R50')\n",
    "ax[1].set_title('g band')\n",
    "\n",
    "fig.savefig('./figs/mu50_distribution.png')"
   ]
  },
  {
   "cell_type": "code",
   "execution_count": 87,
   "id": "beautiful-transcript",
   "metadata": {},
   "outputs": [
    {
     "data": {
      "image/png": "[encoded data removed]",
      "text/plain": [
       "<Figure size 432x288 with 1 Axes>"
      ]
     },
     "metadata": {
      "needs_background": "light"
     },
     "output_type": "display_data"
    }
   ],
   "source": [
    "plt.hist(tbl['incd'], edgecolor = 'black', bins = np.arange(0, 95, 5))\n",
    "\n",
    "plt.xlabel('inclincation')\n",
    "\n",
    "plt.savefig('./figs/incd_distribution.png')"
   ]
  },
  {
   "cell_type": "code",
   "execution_count": 96,
   "id": "typical-array",
   "metadata": {},
   "outputs": [],
   "source": [
    "mask_incl = tbl['incd'] < 30\n",
    "mask_mu = tbl['mu50_g'] > 23"
   ]
  },
  {
   "cell_type": "code",
   "execution_count": 98,
   "id": "foster-century",
   "metadata": {},
   "outputs": [
    {
     "data": {
      "text/plain": [
       "(241, 3151, 1188)"
      ]
     },
     "execution_count": 98,
     "metadata": {},
     "output_type": "execute_result"
    }
   ],
   "source": [
    "sum(mask_incl & mask_mu), sum(mask_incl), sum(mask_mu)"
   ]
  },
  {
   "cell_type": "code",
   "execution_count": 100,
   "id": "flexible-escape",
   "metadata": {},
   "outputs": [
    {
     "data": {
      "text/plain": [
       "['objID',\n",
       " 'dr7_objID',\n",
       " 'ra',\n",
       " 'decl',\n",
       " 'run',\n",
       " 'rerun',\n",
       " 'camcol',\n",
       " 'field',\n",
       " 'ID',\n",
       " 'petroMag_r',\n",
       " 'extinction_r',\n",
       " 'z',\n",
       " 'sciim_nx',\n",
       " 'sciim_ny',\n",
       " 'prchost',\n",
       " 'start_time',\n",
       " 'end_time',\n",
       " 'dfm_r',\n",
       " 'f_r',\n",
       " 'dfp_r',\n",
       " 'dg2dmagm_r',\n",
       " 'g2dmag_r',\n",
       " 'dg2dmagp_r',\n",
       " 'dbtm_r',\n",
       " 'bt_r',\n",
       " 'dbtp_r',\n",
       " 'drem',\n",
       " 're',\n",
       " 'drep',\n",
       " 'dem',\n",
       " 'e',\n",
       " 'dep',\n",
       " 'dphibm',\n",
       " 'phib',\n",
       " 'dphibp',\n",
       " 'drdm',\n",
       " 'rd',\n",
       " 'drdp',\n",
       " 'didm',\n",
       " 'incd',\n",
       " 'didp',\n",
       " 'dphidm',\n",
       " 'phid',\n",
       " 'dphidp',\n",
       " 'ddxm_g',\n",
       " 'dx_g',\n",
       " 'ddxp_g',\n",
       " 'ddym_g',\n",
       " 'dy_g',\n",
       " 'ddyp_g',\n",
       " 'ddbm_r',\n",
       " 'db_r',\n",
       " 'ddbp_r',\n",
       " 'dnm',\n",
       " 'n',\n",
       " 'dnp',\n",
       " 'rhalf_r',\n",
       " 'rchi2_r',\n",
       " 'c1_r',\n",
       " 'c2_r',\n",
       " 'c3_r',\n",
       " 'c4_r',\n",
       " 'a_r',\n",
       " 'da_r',\n",
       " 'az2_1_r',\n",
       " 'az2_2_r',\n",
       " 'az3_1_r',\n",
       " 'az3_2_r',\n",
       " 'az5_1_r',\n",
       " 'az5_2_r',\n",
       " 'dz_r',\n",
       " 'rt1_1_r',\n",
       " 'rt1_2_r',\n",
       " 'rt1_3_r',\n",
       " 'ra1_1_r',\n",
       " 'ra1_2_r',\n",
       " 'ra1_3_r',\n",
       " 'prcflag',\n",
       " 'rd_kpc',\n",
       " 're_kpc',\n",
       " 'rhalf_kpc_r',\n",
       " 'petroR50_r',\n",
       " 'mu50_r',\n",
       " 'Vmax',\n",
       " 'Mr_galaxy',\n",
       " 'Mr_bulge',\n",
       " 'Mr_disk',\n",
       " 'Mg_galaxy',\n",
       " 'Mg_bulge',\n",
       " 'Mg_disk',\n",
       " 'extinction_g',\n",
       " 'petroMag_g',\n",
       " 'dfm_g',\n",
       " 'f_g',\n",
       " 'dfp_g',\n",
       " 'dbtm_g',\n",
       " 'bt_g',\n",
       " 'dbtp_g',\n",
       " 'dg2dmagm_g',\n",
       " 'g2dmag_g',\n",
       " 'dg2dmagp_g',\n",
       " 'rhalf_g',\n",
       " 'rhalf_kpc_g',\n",
       " 'rchi2_g',\n",
       " 'ddbm_g',\n",
       " 'db_g',\n",
       " 'ddbp_g',\n",
       " 'c1_g',\n",
       " 'c2_g',\n",
       " 'c3_g',\n",
       " 'c4_g',\n",
       " 'petroR50_g',\n",
       " 'mu50_g',\n",
       " 'a_g',\n",
       " 'da_g',\n",
       " 'az2_1_g',\n",
       " 'az2_2_g',\n",
       " 'az3_1_g',\n",
       " 'az3_2_g',\n",
       " 'az5_1_g',\n",
       " 'az5_2_g',\n",
       " 'dz_g',\n",
       " 'rt1_1_g',\n",
       " 'rt1_2_g',\n",
       " 'rt1_3_g',\n",
       " 'ra1_1_g',\n",
       " 'ra1_2_g',\n",
       " 'ra1_3_g',\n",
       " 'specclass',\n",
       " 'ddxm_r',\n",
       " 'dx_r',\n",
       " 'ddxp_r',\n",
       " 'ddym_r',\n",
       " 'dy_r',\n",
       " 'ddyp_r',\n",
       " 'crhalf_g',\n",
       " 'crhalf_r',\n",
       " 'P_pS',\n",
       " 'P_n4',\n",
       " 'npxfit0',\n",
       " 'npxfit1',\n",
       " 'skySigNorm_r',\n",
       " 'skySigNorm_g',\n",
       " 'sky_r',\n",
       " 'sky_g',\n",
       " 'skyNpix_g',\n",
       " 'skyNpix_r']"
      ]
     },
     "execution_count": 100,
     "metadata": {},
     "output_type": "execute_result"
    }
   ],
   "source": [
    "tbl.keys()"
   ]
  },
  {
   "cell_type": "markdown",
   "id": "gorgeous-zoning",
   "metadata": {},
   "source": [
    "B = g + 0.47(g-r) + 0.17\n",
    "\n",
    "$\\mu_{0}(m) = m + 2.5\\log{(2\\pi a^{2})} + 2.5\\log{(b/a)} - 10\\log{(1+z)}$"
   ]
  },
  {
   "cell_type": "code",
   "execution_count": 106,
   "id": "fitted-retention",
   "metadata": {},
   "outputs": [],
   "source": [
    "B_conv = tbl['g2dmag_g'] + 0.47 * (tbl['g2dmag_g'] - tbl['g2dmag_r']) + 0.17"
   ]
  },
  {
   "cell_type": "code",
   "execution_count": 109,
   "id": "dense-concept",
   "metadata": {},
   "outputs": [],
   "source": [
    "a = tbl['rhalf_r']"
   ]
  },
  {
   "cell_type": "code",
   "execution_count": 119,
   "id": "upset-vector",
   "metadata": {
    "scrolled": true
   },
   "outputs": [
    {
     "name": "stderr",
     "output_type": "stream",
     "text": [
      "/home/ehko/anaconda3/lib/python3.7/site-packages/ipykernel_launcher.py:1: RuntimeWarning: invalid value encountered in arccos\n",
      "  \"\"\"Entry point for launching an IPython kernel.\n"
     ]
    }
   ],
   "source": [
    "bovera = np.arccos(tbl['incd'] * np.pi / 180)"
   ]
  },
  {
   "cell_type": "code",
   "execution_count": 122,
   "id": "running-concert",
   "metadata": {},
   "outputs": [
    {
     "name": "stderr",
     "output_type": "stream",
     "text": [
      "/home/ehko/anaconda3/lib/python3.7/site-packages/ipykernel_launcher.py:1: RuntimeWarning: invalid value encountered in log10\n",
      "  \"\"\"Entry point for launching an IPython kernel.\n"
     ]
    }
   ],
   "source": [
    "muB_conv = B_conv + 2.5 * np.log10(2 * np.pi * a**2) + 2.5 * np.log10(bovera) - 10 * np.log10(1 + tbl['z'])"
   ]
  },
  {
   "cell_type": "code",
   "execution_count": 129,
   "id": "relative-payroll",
   "metadata": {},
   "outputs": [
    {
     "data": {
      "image/png": "[encoded data removed]",
      "text/plain": [
       "<Figure size 432x288 with 1 Axes>"
      ]
     },
     "metadata": {
      "needs_background": "light"
     },
     "output_type": "display_data"
    }
   ],
   "source": [
    "plt.hist(muB_conv, bins = np.arange(17, 25, 0.2), edgecolor = 'black')\n",
    "\n",
    "plt.axvline(22.7, color = 'red', linewidth = 2)\n",
    "\n",
    "plt.xlabel('converted $\\mu_{B}$')\n",
    "plt.savefig('./figs/converted_muB.png')"
   ]
  },
  {
   "cell_type": "code",
   "execution_count": 130,
   "id": "accepting-survey",
   "metadata": {},
   "outputs": [
    {
     "data": {
      "text/plain": [
       "1167"
      ]
     },
     "execution_count": 130,
     "metadata": {},
     "output_type": "execute_result"
    }
   ],
   "source": [
    "sum(muB_conv > 23)"
   ]
  },
  {
   "cell_type": "code",
   "execution_count": null,
   "id": "engaged-organic",
   "metadata": {},
   "outputs": [],
   "source": [
    "sum((muB_conv > 22.7) & ()) "
   ]
  }
 ],
 "metadata": {
  "kernelspec": {
   "display_name": "Python 3",
   "language": "python",
   "name": "python3"
  },
  "language_info": {
   "codemirror_mode": {
    "name": "ipython",
    "version": 3
   },
   "file_extension": ".py",
   "mimetype": "text/x-python",
   "name": "python",
   "nbconvert_exporter": "python",
   "pygments_lexer": "ipython3",
   "version": "3.7.10"
  },
  "varInspector": {
   "cols": {
    "lenName": 16,
    "lenType": 16,
    "lenVar": 40
   },
   "kernels_config": {
    "python": {
     "delete_cmd_postfix": "",
     "delete_cmd_prefix": "del ",
     "library": "var_list.py",
     "varRefreshCmd": "print(var_dic_list())"
    },
    "r": {
     "delete_cmd_postfix": ") ",
     "delete_cmd_prefix": "rm(",
     "library": "var_list.r",
     "varRefreshCmd": "cat(var_dic_list()) "
    }
   },
   "types_to_exclude": [
    "module",
    "function",
    "builtin_function_or_method",
    "instance",
    "_Feature"
   ],
   "window_display": false
  }
 },
 "nbformat": 4,
 "nbformat_minor": 5
}
