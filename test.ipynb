{
 "cells": [
  {
   "cell_type": "code",
   "execution_count": 1,
   "metadata": {},
   "outputs": [],
   "source": [
    "import matplotlib.pyplot as plt\n",
    "import numpy as np\n",
    "\n",
    "from astropy.table import Table\n",
    "\n",
    "from astropy import units as u\n",
    "from astropy.coordinates import SkyCoord\n",
    "\n",
    "from astropy.cosmology import FlatLambdaCDM\n",
    "cosmo = FlatLambdaCDM(H0=70, Om0=0.3, Tcmb0=2.725)"
   ]
  },
  {
   "cell_type": "code",
   "execution_count": 2,
   "metadata": {},
   "outputs": [],
   "source": [
    "coadd = Table.read('./data/coadd.fit')"
   ]
  },
  {
   "cell_type": "code",
   "execution_count": 4,
   "metadata": {},
   "outputs": [],
   "source": [
    "grps = Table.read(\"./data/group_DR7/modelA_group\", format = 'ascii')"
   ]
  },
  {
   "cell_type": "code",
   "execution_count": 13,
   "metadata": {},
   "outputs": [],
   "source": [
    "mems = Table.read(\"./data/group_DR7/imodelA_2\", format = 'ascii')"
   ]
  },
  {
   "cell_type": "code",
   "execution_count": 7,
   "metadata": {},
   "outputs": [],
   "source": [
    "mask_m = (grps['col7'] > np.log10(2e12))\n",
    "mask_z = (grps['col4'] > 0.015) & (grps['col4'] < 0.055)\n",
    "mask_coord = ((grps['col2'] < 70) | (grps['col2'] > 290)) & ((grps['col3'] < 5) & (grps['col3'] > -5))\n",
    "mask_grp = mask_m & mask_z & mask_coord\n",
    "\n",
    "grps = grps[mask_grp]\n"
   ]
  },
  {
   "cell_type": "code",
   "execution_count": 43,
   "metadata": {},
   "outputs": [],
   "source": [
    "# mems['col3'] #32bit"
   ]
  },
  {
   "cell_type": "code",
   "execution_count": 34,
   "metadata": {},
   "outputs": [],
   "source": [
    "# ids_coadd = coadd['objID']\n",
    "# ids_coadd = [int(divmod(x, 1e6)[1]) for x in ids_coadd]\n"
   ]
  },
  {
   "cell_type": "code",
   "execution_count": 41,
   "metadata": {},
   "outputs": [
    {
     "data": {
      "text/html": [
       "&lt;Column name=&apos;objID&apos; dtype=&apos;int64&apos; length=6377638&gt;\n",
       "<table>\n",
       "<tr><td>8647474692481943880</td></tr>\n",
       "<tr><td>8647475122515542566</td></tr>\n",
       "<tr><td>8647474690334460154</td></tr>\n",
       "<tr><td>8647475119831188340</td></tr>\n",
       "<tr><td>8647475122515542548</td></tr>\n",
       "<tr><td>8647475120368060903</td></tr>\n",
       "<tr><td>8647475120904931573</td></tr>\n",
       "<tr><td>8647474691945072825</td></tr>\n",
       "<tr><td>8647474690871330956</td></tr>\n",
       "<tr><td>8647475120904931560</td></tr>\n",
       "<tr><td>8647475120904931562</td></tr>\n",
       "<tr><td>8647475121441801245</td></tr>\n",
       "<tr><td>...</td></tr>\n",
       "<tr><td>8647474690871329417</td></tr>\n",
       "<tr><td>8647474690334459648</td></tr>\n",
       "<tr><td>8647474690334459634</td></tr>\n",
       "<tr><td>8647475120904930223</td></tr>\n",
       "<tr><td>8647475120904930567</td></tr>\n",
       "<tr><td>8647474691945071146</td></tr>\n",
       "<tr><td>8647474691408201106</td></tr>\n",
       "<tr><td>8647475120904931557</td></tr>\n",
       "<tr><td>8647474692481943890</td></tr>\n",
       "<tr><td>8647475120368060914</td></tr>\n",
       "<tr><td>8647474690871330938</td></tr>\n",
       "<tr><td>8647474693018813593</td></tr>\n",
       "</table>"
      ],
      "text/plain": [
       "<Column name='objID' dtype='int64' length=6377638>\n",
       "8647474692481943880\n",
       "8647475122515542566\n",
       "8647474690334460154\n",
       "8647475119831188340\n",
       "8647475122515542548\n",
       "8647475120368060903\n",
       "8647475120904931573\n",
       "8647474691945072825\n",
       "8647474690871330956\n",
       "8647475120904931560\n",
       "8647475120904931562\n",
       "8647475121441801245\n",
       "                ...\n",
       "8647474690871329417\n",
       "8647474690334459648\n",
       "8647474690334459634\n",
       "8647475120904930223\n",
       "8647475120904930567\n",
       "8647474691945071146\n",
       "8647474691408201106\n",
       "8647475120904931557\n",
       "8647474692481943890\n",
       "8647475120368060914\n",
       "8647474690871330938\n",
       "8647474693018813593"
      ]
     },
     "execution_count": 41,
     "metadata": {},
     "output_type": "execute_result"
    }
   ],
   "source": [
    "object_coadd = coadd['objID']"
   ]
  },
  {
   "cell_type": "code",
   "execution_count": null,
   "metadata": {},
   "outputs": [],
   "source": []
  },
  {
   "cell_type": "code",
   "execution_count": null,
   "metadata": {},
   "outputs": [],
   "source": []
  }
 ],
 "metadata": {
  "kernelspec": {
   "display_name": "base",
   "language": "python",
   "name": "python3"
  },
  "language_info": {
   "codemirror_mode": {
    "name": "ipython",
    "version": 3
   },
   "file_extension": ".py",
   "mimetype": "text/x-python",
   "name": "python",
   "nbconvert_exporter": "python",
   "pygments_lexer": "ipython3",
   "version": "3.10.11"
  },
  "orig_nbformat": 4
 },
 "nbformat": 4,
 "nbformat_minor": 2
}
